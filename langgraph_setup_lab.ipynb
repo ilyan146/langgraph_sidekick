{
 "cells": [
  {
   "cell_type": "code",
   "execution_count": 17,
   "id": "a30c797a",
   "metadata": {},
   "outputs": [],
   "source": [
    "from typing import Annotated\n",
    "from langgraph.graph import StateGraph, START, END\n",
    "from langgraph.prebuilt import ToolNode, tools_condition\n",
    "from langgraph.graph.message import add_messages # A reducer function\n",
    "from langchain_openai import ChatOpenAI, AzureChatOpenAI\n",
    "from pydantic import BaseModel\n",
    "from dotenv import load_dotenv\n",
    "from typing import Annotated\n",
    "from databricks_langchain import ChatDatabricks\n",
    "import os\n",
    "from client import AzureAIClient\n",
    "from IPython.display import Image, display\n",
    "import gradio as gr\n",
    "import requests"
   ]
  },
  {
   "cell_type": "code",
   "execution_count": 11,
   "id": "30240ff6",
   "metadata": {},
   "outputs": [
    {
     "data": {
      "text/plain": [
       "True"
      ]
     },
     "execution_count": 11,
     "metadata": {},
     "output_type": "execute_result"
    }
   ],
   "source": [
    "load_dotenv(override=True)"
   ]
  },
  {
   "cell_type": "code",
   "execution_count": 3,
   "metadata": {},
   "outputs": [],
   "source": [
    "# Create a simple state\n",
    "from pydantic import BaseModel\n",
    "\n",
    "\n",
    "class State(BaseModel):\n",
    "    messages: Annotated[list, add_messages]"
   ]
  },
  {
   "cell_type": "code",
   "execution_count": 4,
   "id": "715c7372",
   "metadata": {},
   "outputs": [
    {
     "name": "stderr",
     "output_type": "stream",
     "text": [
      "\u001b[32m2025-07-05 18:59:42.694\u001b[0m | \u001b[32m\u001b[1mSUCCESS \u001b[0m | \u001b[36mclient\u001b[0m:\u001b[36m_get_token_provider\u001b[0m:\u001b[36m41\u001b[0m - \u001b[32m\u001b[1mSuccessfully initialized Azure Credentials!!\u001b[0m\n"
     ]
    }
   ],
   "source": [
    "# Get llms\n",
    "llm_db = ChatDatabricks(endpoint=\"databricks-claude-3-7-sonnet\", max_tokens=1000)\n",
    "\n",
    "llm_az = AzureChatOpenAI(\n",
    "    api_version=\"2024-12-01-preview\",\n",
    "    azure_ad_token_provider=AzureAIClient().token_provider,\n",
    "    # azure_deployment=\"gpt-4o\"\n",
    "    azure_deployment=\"o4-mini\"\n",
    ")"
   ]
  },
  {
   "cell_type": "code",
   "execution_count": 5,
   "metadata": {},
   "outputs": [
    {
     "data": {
      "image/png": "[encoded data removed]",
      "text/plain": [
       "<IPython.core.display.Image object>"
      ]
     },
     "metadata": {},
     "output_type": "display_data"
    }
   ],
   "source": [
    "# Build a graph\n",
    "graph_builder = StateGraph(state_schema=State)\n",
    "\n",
    "# Create node\n",
    "def chatbot_node(old_state: State) -> State:\n",
    "    response = llm_az.invoke(old_state.messages)\n",
    "    new_state = State(messages=[response])\n",
    "    return new_state\n",
    "\n",
    "graph_builder.add_node(\"chatbot_node\", chatbot_node)\n",
    "\n",
    "# Create Edges\n",
    "graph_builder.add_edge(START, \"chatbot_node\")\n",
    "graph_builder.add_edge(\"chatbot_node\", END)\n",
    "\n",
    "# Create the graph\n",
    "graph = graph_builder.compile()\n",
    "\n",
    "display(Image(graph.get_graph().draw_mermaid_png()))"
   ]
  },
  {
   "cell_type": "code",
   "execution_count": 6,
   "id": "7844d647",
   "metadata": {},
   "outputs": [
    {
     "name": "stdout",
     "output_type": "stream",
     "text": [
      "* Running on local URL:  http://127.0.0.1:7860\n",
      "* To create a public link, set `share=True` in `launch()`.\n"
     ]
    },
    {
     "data": {
      "text/html": [
       "<div><iframe src=\"http://127.0.0.1:7860/\" width=\"100%\" height=\"500\" allow=\"autoplay; camera; microphone; clipboard-read; clipboard-write;\" frameborder=\"0\" allowfullscreen></iframe></div>"
      ],
      "text/plain": [
       "<IPython.core.display.HTML object>"
      ]
     },
     "metadata": {},
     "output_type": "display_data"
    },
    {
     "data": {
      "text/plain": []
     },
     "execution_count": 6,
     "metadata": {},
     "output_type": "execute_result"
    },
    {
     "name": "stdout",
     "output_type": "stream",
     "text": [
      "{'messages': [HumanMessage(content='hi there', additional_kwargs={}, response_metadata={}, id='f4febdcb-ec4c-4753-92fd-34c8f56680c5'), AIMessage(content='Hello! How can I help you today?', additional_kwargs={'refusal': None}, response_metadata={'token_usage': {'completion_tokens': 28, 'prompt_tokens': 8, 'total_tokens': 36, 'completion_tokens_details': {'accepted_prediction_tokens': 0, 'audio_tokens': 0, 'reasoning_tokens': 0, 'rejected_prediction_tokens': 0}, 'prompt_tokens_details': {'audio_tokens': 0, 'cached_tokens': 0}}, 'model_name': 'o4-mini-2025-04-16', 'system_fingerprint': None, 'id': 'chatcmpl-BpyenCKVJAf7iU9PDq0OggT66lzJQ', 'service_tier': None, 'prompt_filter_results': [{'prompt_index': 0, 'content_filter_results': {'hate': {'filtered': False, 'severity': 'safe'}, 'jailbreak': {'filtered': False, 'detected': False}, 'self_harm': {'filtered': False, 'severity': 'safe'}, 'sexual': {'filtered': False, 'severity': 'safe'}, 'violence': {'filtered': False, 'severity': 'safe'}}}], 'finish_reason': 'stop', 'logprobs': None, 'content_filter_results': {'hate': {'filtered': False, 'severity': 'safe'}, 'protected_material_code': {'filtered': False, 'detected': False}, 'protected_material_text': {'filtered': False, 'detected': False}, 'self_harm': {'filtered': False, 'severity': 'safe'}, 'sexual': {'filtered': False, 'severity': 'safe'}, 'violence': {'filtered': False, 'severity': 'safe'}}}, id='run--7a079d95-8199-4aaf-a08b-65887a085d19-0', usage_metadata={'input_tokens': 8, 'output_tokens': 28, 'total_tokens': 36, 'input_token_details': {'audio': 0, 'cache_read': 0}, 'output_token_details': {'audio': 0, 'reasoning': 0}})]}\n"
     ]
    }
   ],
   "source": [
    "# Create a simple chat interface using gradio\n",
    "def chat(user_input: str, history):\n",
    "    initial_state = State(messages=[{\"role\": \"user\", \"content\": user_input}])\n",
    "    result = graph.invoke(initial_state)\n",
    "    print(result)\n",
    "    return result[\"messages\"][-1].content\n",
    "\n",
    "gr.ChatInterface(chat, type=\"messages\").launch()"
   ]
  },
  {
   "cell_type": "markdown",
   "id": "22311c78",
   "metadata": {},
   "source": [
    "### Making a more functional langgraph agentic workflow"
   ]
  },
  {
   "cell_type": "code",
   "execution_count": 8,
   "id": "a76193df",
   "metadata": {},
   "outputs": [
    {
     "data": {
      "text/plain": [
       "'Today, July 5th , is day 186 of 365 total days in 2025. What is Today\\'s Date in Numbers? Today\\'s date in numbers is: MM-DD-YYYY: 07-05-2025; DD-MM-YYYY: ... Find out the current day, date of today, local time and week number. The weekday today is Saturday and today\\'s date is. July 05, 2025. Today\\'s ... Welcome to the world\\'s top site for time, time zones, and astronomy. Organize your life with free online info and tools you can rely on. No sign-up needed. This page includes the following information: Today\\'s date: day of week, month, day, year. Current time: hours, minutes, seconds. Saturday, July 05, 2025 · Today\\'s day number is: 186 (of 365 / year 2025 is a leap year) · There are 179 days remaining in this year 2025. · The current week ... Today Saturday, July 5, 2025 is ... Day of the year is a number between 1 and 365 (in 2025), January 1 is day 1. After today 179 days are remaining in this year. ... Details about today\\'s date with count of days, weeks, and months, Sun and Moon cycles, Zodiac signs and holidays. TODAY\\'S DATE IS. Friday, July 4, 2025. The date today, July 4, is day number 185 of 365 total days in 2025. TODAY\\'S TIME IS. 17:00:00. We\\'ve put today\\'s most important date knowledge all in one convenient place for you. Bookmark this page and return whenever you need a quick refresher on the ... Today\\'s Date is Fri Jul 04 2025. About Date Today. The term \"Date Today\" refers to the current calendar date as determined by a system\\'s internal clock ...'"
      ]
     },
     "execution_count": 8,
     "metadata": {},
     "output_type": "execute_result"
    }
   ],
   "source": [
    "# Get a nice googler serper fucntion\n",
    "from langchain_community.utilities import GoogleSerperAPIWrapper\n",
    "\n",
    "serper = GoogleSerperAPIWrapper()\n",
    "serper.run(\"What is the current date?\")"
   ]
  },
  {
   "cell_type": "code",
   "execution_count": 50,
   "id": "71d0a7ec",
   "metadata": {},
   "outputs": [],
   "source": [
    "# Create a new tool for the agent\n",
    "from langchain.agents import Tool\n",
    "\n",
    "tool_search = Tool(\n",
    "    name=\"google_search\",\n",
    "    func=serper.run,\n",
    "    description=\"Useful for when you need more information from an online search\"\n",
    ")"
   ]
  },
  {
   "cell_type": "code",
   "execution_count": 51,
   "id": "889d959b",
   "metadata": {},
   "outputs": [
    {
     "data": {
      "text/plain": [
       "'Droupadi Murmu'"
      ]
     },
     "execution_count": 51,
     "metadata": {},
     "output_type": "execute_result"
    }
   ],
   "source": [
    "tool_search.run(\"Who is the current president of India?\")"
   ]
  },
  {
   "cell_type": "code",
   "execution_count": 52,
   "id": "9e7f6017",
   "metadata": {},
   "outputs": [],
   "source": [
    "pushover_token = os.getenv(\"PUSHOVER_TOKEN\")\n",
    "pushover_user = os.getenv(\"PUSHOVER_USER\")\n",
    "pushover_url = \"https://api.pushover.net/1/messages.json\"\n",
    "\n",
    "def push(text: str):\n",
    "    \"\"\"Send a push notification to the user\"\"\"\n",
    "    requests.post(pushover_url, data = {\"token\": pushover_token, \"user\": pushover_user, \"message\": text})"
   ]
  },
  {
   "cell_type": "code",
   "execution_count": 53,
   "id": "8a61b89a",
   "metadata": {},
   "outputs": [],
   "source": [
    "tool_push = Tool(\n",
    "    name=\"push_notification\",\n",
    "    func=push,\n",
    "    description=\"Useful for sending push notifications to the user\"\n",
    ")\n",
    "tool_push.invoke(\"Hi there this is from pushover!\")"
   ]
  },
  {
   "cell_type": "code",
   "execution_count": 54,
   "id": "acf93737",
   "metadata": {},
   "outputs": [],
   "source": [
    "tools = [tool_search, tool_push]\n",
    "llm_az_tools = llm_az.bind_tools(tools)"
   ]
  },
  {
   "cell_type": "code",
   "execution_count": 55,
   "id": "da2796aa",
   "metadata": {},
   "outputs": [
    {
     "data": {
      "text/plain": [
       "<langgraph.graph.state.StateGraph at 0x257dc459d00>"
      ]
     },
     "execution_count": 55,
     "metadata": {},
     "output_type": "execute_result"
    }
   ],
   "source": [
    "graph_builder2 = StateGraph(state_schema=State)\n",
    "\n",
    "# Nodes again\n",
    "def chatbot_node(old_state: State) -> State:\n",
    "    response = llm_az_tools.invoke(old_state.messages)\n",
    "    new_state = State(messages=[response])\n",
    "    return new_state\n",
    "\n",
    "graph_builder2.add_node(\"chatbot_node\", chatbot_node)\n",
    "graph_builder2.add_node(\"tools\", ToolNode(tools=tools))\n",
    "\n",
    "# Add edges with conditions\n",
    "graph_builder2.add_conditional_edges(\"chatbot_node\", tools_condition, \"tools\")\n",
    "graph_builder2.add_edge(\"tools\", \"chatbot_node\")\n",
    "\n",
    "graph_builder2.add_edge(START, \"chatbot_node\")\n"
   ]
  },
  {
   "cell_type": "code",
   "execution_count": 56,
   "id": "a64cb0e5",
   "metadata": {},
   "outputs": [
    {
     "data": {
      "image/png": "[encoded data removed]",
      "text/plain": [
       "<IPython.core.display.Image object>"
      ]
     },
     "metadata": {},
     "output_type": "display_data"
    }
   ],
   "source": [
    "# Compile the graph\n",
    "graph2 = graph_builder2.compile()\n",
    "display(Image(graph2.get_graph().draw_mermaid_png()))"
   ]
  },
  {
   "cell_type": "code",
   "execution_count": null,
   "id": "8b2d1474",
   "metadata": {},
   "outputs": [
    {
     "name": "stdout",
     "output_type": "stream",
     "text": [
      "* Running on local URL:  http://127.0.0.1:7867\n",
      "* To create a public link, set `share=True` in `launch()`.\n"
     ]
    },
    {
     "data": {
      "text/html": [
       "<div><iframe src=\"http://127.0.0.1:7867/\" width=\"100%\" height=\"500\" allow=\"autoplay; camera; microphone; clipboard-read; clipboard-write;\" frameborder=\"0\" allowfullscreen></iframe></div>"
      ],
      "text/plain": [
       "<IPython.core.display.HTML object>"
      ]
     },
     "metadata": {},
     "output_type": "display_data"
    },
    {
     "data": {
      "text/plain": []
     },
     "execution_count": 57,
     "metadata": {},
     "output_type": "execute_result"
    },
    {
     "name": "stdout",
     "output_type": "stream",
     "text": [
      "{'messages': [HumanMessage(content='Hi there', additional_kwargs={}, response_metadata={}, id='a3a257ad-4d77-472e-bec5-9d2c9f3f7217'), AIMessage(content='Hello! How can I help you today?', additional_kwargs={'refusal': None}, response_metadata={'token_usage': {'completion_tokens': 28, 'prompt_tokens': 88, 'total_tokens': 116, 'completion_tokens_details': {'accepted_prediction_tokens': 0, 'audio_tokens': 0, 'reasoning_tokens': 0, 'rejected_prediction_tokens': 0}, 'prompt_tokens_details': {'audio_tokens': 0, 'cached_tokens': 0}}, 'model_name': 'o4-mini-2025-04-16', 'system_fingerprint': None, 'id': 'chatcmpl-BpzfWiQxYf4kGwFWIFf9meQCyjBgG', 'service_tier': None, 'prompt_filter_results': [{'prompt_index': 0, 'content_filter_results': {'hate': {'filtered': False, 'severity': 'safe'}, 'jailbreak': {'filtered': False, 'detected': False}, 'self_harm': {'filtered': False, 'severity': 'safe'}, 'sexual': {'filtered': False, 'severity': 'safe'}, 'violence': {'filtered': False, 'severity': 'safe'}}}], 'finish_reason': 'stop', 'logprobs': None, 'content_filter_results': {'hate': {'filtered': False, 'severity': 'safe'}, 'protected_material_code': {'filtered': False, 'detected': False}, 'protected_material_text': {'filtered': False, 'detected': False}, 'self_harm': {'filtered': False, 'severity': 'safe'}, 'sexual': {'filtered': False, 'severity': 'safe'}, 'violence': {'filtered': False, 'severity': 'safe'}}}, id='run--8bb9142e-cd7b-4aa4-94df-41766c75ec03-0', usage_metadata={'input_tokens': 88, 'output_tokens': 28, 'total_tokens': 116, 'input_token_details': {'audio': 0, 'cache_read': 0}, 'output_token_details': {'audio': 0, 'reasoning': 0}})]}\n",
      "{'messages': [HumanMessage(content='Can you send me a push notification that says: This is AWESOME !! ?', additional_kwargs={}, response_metadata={}, id='fefeb6bf-7411-41a8-aba2-995d60535f1e'), AIMessage(content='', additional_kwargs={'tool_calls': [{'id': 'call_ZjGTeGqhDHREQDIFbPWkKszp', 'function': {'arguments': '{\"__arg1\":\"This is AWESOME !!\"}', 'name': 'push_notification'}, 'type': 'function'}], 'refusal': None}, response_metadata={'token_usage': {'completion_tokens': 218, 'prompt_tokens': 101, 'total_tokens': 319, 'completion_tokens_details': {'accepted_prediction_tokens': 0, 'audio_tokens': 0, 'reasoning_tokens': 192, 'rejected_prediction_tokens': 0}, 'prompt_tokens_details': {'audio_tokens': 0, 'cached_tokens': 0}}, 'model_name': 'o4-mini-2025-04-16', 'system_fingerprint': None, 'id': 'chatcmpl-BpzfyEJh2fZFGsXtsb4mKwFN6FxWf', 'service_tier': None, 'prompt_filter_results': [{'prompt_index': 0, 'content_filter_results': {'hate': {'filtered': False, 'severity': 'safe'}, 'jailbreak': {'filtered': False, 'detected': False}, 'self_harm': {'filtered': False, 'severity': 'safe'}, 'sexual': {'filtered': False, 'severity': 'safe'}, 'violence': {'filtered': False, 'severity': 'safe'}}}], 'finish_reason': 'tool_calls', 'logprobs': None, 'content_filter_results': {}}, id='run--bd8943a9-59ad-42f6-8a1e-0064b8bdef4c-0', tool_calls=[{'name': 'push_notification', 'args': {'__arg1': 'This is AWESOME !!'}, 'id': 'call_ZjGTeGqhDHREQDIFbPWkKszp', 'type': 'tool_call'}], usage_metadata={'input_tokens': 101, 'output_tokens': 218, 'total_tokens': 319, 'input_token_details': {'audio': 0, 'cache_read': 0}, 'output_token_details': {'audio': 0, 'reasoning': 192}}), ToolMessage(content='null', name='push_notification', id='b75c3aa8-5f78-448c-89b8-ebd7bb36ed9a', tool_call_id='call_ZjGTeGqhDHREQDIFbPWkKszp'), AIMessage(content='Your push notification has been sent: “This is AWESOME !!”', additional_kwargs={'refusal': None}, response_metadata={'token_usage': {'completion_tokens': 26, 'prompt_tokens': 133, 'total_tokens': 159, 'completion_tokens_details': {'accepted_prediction_tokens': 0, 'audio_tokens': 0, 'reasoning_tokens': 0, 'rejected_prediction_tokens': 0}, 'prompt_tokens_details': {'audio_tokens': 0, 'cached_tokens': 0}}, 'model_name': 'o4-mini-2025-04-16', 'system_fingerprint': None, 'id': 'chatcmpl-Bpzg2J8IiIXMaws8KIOtEJpn4E4p1', 'service_tier': None, 'prompt_filter_results': [{'prompt_index': 0, 'content_filter_results': {'hate': {'filtered': False, 'severity': 'safe'}, 'jailbreak': {'filtered': False, 'detected': False}, 'self_harm': {'filtered': False, 'severity': 'safe'}, 'sexual': {'filtered': False, 'severity': 'safe'}, 'violence': {'filtered': False, 'severity': 'safe'}}}], 'finish_reason': 'stop', 'logprobs': None, 'content_filter_results': {'hate': {'filtered': False, 'severity': 'safe'}, 'protected_material_code': {'filtered': False, 'detected': False}, 'protected_material_text': {'filtered': False, 'detected': False}, 'self_harm': {'filtered': False, 'severity': 'safe'}, 'sexual': {'filtered': False, 'severity': 'safe'}, 'violence': {'filtered': False, 'severity': 'safe'}}}, id='run--5e1a6881-c0c6-465a-977b-85d5a5e4979a-0', usage_metadata={'input_tokens': 133, 'output_tokens': 26, 'total_tokens': 159, 'input_token_details': {'audio': 0, 'cache_read': 0}, 'output_token_details': {'audio': 0, 'reasoning': 0}})]}\n",
      "{'messages': [HumanMessage(content='Tell me about the current weather in Hong Kong today ?', additional_kwargs={}, response_metadata={}, id='c96dbcd2-cd10-416e-900b-2c5285283d56'), AIMessage(content='', additional_kwargs={'tool_calls': [{'id': 'call_uKukL8BD5IlSzOTvHw5nifM8', 'function': {'arguments': '{\"__arg1\":\"current weather in Hong Kong today\"}', 'name': 'google_search'}, 'type': 'function'}], 'refusal': None}, response_metadata={'token_usage': {'completion_tokens': 220, 'prompt_tokens': 97, 'total_tokens': 317, 'completion_tokens_details': {'accepted_prediction_tokens': 0, 'audio_tokens': 0, 'reasoning_tokens': 192, 'rejected_prediction_tokens': 0}, 'prompt_tokens_details': {'audio_tokens': 0, 'cached_tokens': 0}}, 'model_name': 'o4-mini-2025-04-16', 'system_fingerprint': None, 'id': 'chatcmpl-BpzgRQ9EeYp63avyxFVlme08LGbWi', 'service_tier': None, 'prompt_filter_results': [{'prompt_index': 0, 'content_filter_results': {'hate': {'filtered': False, 'severity': 'safe'}, 'jailbreak': {'filtered': False, 'detected': False}, 'self_harm': {'filtered': False, 'severity': 'safe'}, 'sexual': {'filtered': False, 'severity': 'safe'}, 'violence': {'filtered': False, 'severity': 'safe'}}}], 'finish_reason': 'tool_calls', 'logprobs': None, 'content_filter_results': {}}, id='run--ab0d8c22-ed9e-4c22-bc14-ed180eadef9a-0', tool_calls=[{'name': 'google_search', 'args': {'__arg1': 'current weather in Hong Kong today'}, 'id': 'call_uKukL8BD5IlSzOTvHw5nifM8', 'type': 'tool_call'}], usage_metadata={'input_tokens': 97, 'output_tokens': 220, 'total_tokens': 317, 'input_token_details': {'audio': 0, 'cache_read': 0}, 'output_token_details': {'audio': 0, 'reasoning': 192}}), ToolMessage(content=\"Hourly Weather · 1 AM 80°. rain drop 14% · 2 AM 80°. rain drop 14% · 3 AM 79°. rain drop 14% · 4 AM 82°. rain drop 14% · 5 AM 84°. rain drop 14% · 6 AM 83°. rain drop ... Current weather in Hong Kong and forecast for today, tomorrow, and next 14 days. Local Weather Forecast · 9-Day Weather Forecast · Special Weather Tips ... Today's Weather Warnings · Warning Information · Regional Info on Heavy Rain ... Hourly Weather-Hong Kong, People's Republic of China · 1 am. 81°. 41%. Showers. Feels Like90°. WindE 10 mph. Humidity86%. UV Index0 of 11. Cloud Cover77%. Rain ... At 1 p.m. at Hong Kong Observatory : Air Temperature : 34 degrees Celsius Relative Humidity : 57 per cent Weather Cartoon : No. Hour by hour forecast · 19:00. ,. Sunny. Sunny. Sunny. 29° 84° · 20:00. ,. Clear Sky. Clear Sky. Clear Sky. 29° 83° · 21:00. ,. Clear Sky. Clear Sky. Clear Sky. 29 ... Central and Western District 86° Eastern District 85° Hong Kong 83° Hong Kong Island 86° Kowloon 85° Kowloon City 85° Kwai Tsing 85° Kwun Tong 85° New ... 10 Day Weather-Central and Western, People's Republic of China. As of 12:03 pm HKT. Today. 92°/81°. 54%. Sat 05 | Day. 92°. 54%. NE 10 mph. TodayHourly14 DaysPastClimate. Currently: 91 °F. Sprinkles. Scattered clouds. (Weather station: Hong Kong International Airport, Hong Kong). ... See more current ... Mixed clouds and sun this morning. Scattered thunderstorms developing this afternoon. High 91F. Winds NNE at 5 to 10 mph. Chance of rain 50%. icon.\", name='google_search', id='645e372f-2e60-493b-a44a-47aeae9572f6', tool_call_id='call_uKukL8BD5IlSzOTvHw5nifM8'), AIMessage(content='As of early this afternoon in Hong Kong (around 1 PM HKT):\\n\\n• Temperature: 34 °C (93 °F)  \\n• Feels like: ~36–38 °C under the sun  \\n• Humidity: ~55–57%  \\n• Sky: broken/scattered clouds with occasional sprinkles  \\n• Wind: NNE at 5–10 mph (8–16 km/h)  \\n• Chance of rain: ~50%, with scattered thunderstorms developing later today  \\n• UV index: Moderate (around 5–6)\\n\\nIn short, it’s hot and humid, with clouds building and a fair risk of showers or storms this afternoon. If you’re out and about, stay hydrated and keep an umbrella handy.', additional_kwargs={'refusal': None}, response_metadata={'token_usage': {'completion_tokens': 622, 'prompt_tokens': 573, 'total_tokens': 1195, 'completion_tokens_details': {'accepted_prediction_tokens': 0, 'audio_tokens': 0, 'reasoning_tokens': 448, 'rejected_prediction_tokens': 0}, 'prompt_tokens_details': {'audio_tokens': 0, 'cached_tokens': 0}}, 'model_name': 'o4-mini-2025-04-16', 'system_fingerprint': None, 'id': 'chatcmpl-BpzgVIuf4XrcO5UXFDzt2u4mTXOlF', 'service_tier': None, 'prompt_filter_results': [{'prompt_index': 0, 'content_filter_results': {'hate': {'filtered': False, 'severity': 'safe'}, 'jailbreak': {'filtered': False, 'detected': False}, 'self_harm': {'filtered': False, 'severity': 'safe'}, 'sexual': {'filtered': False, 'severity': 'safe'}, 'violence': {'filtered': False, 'severity': 'safe'}}}], 'finish_reason': 'stop', 'logprobs': None, 'content_filter_results': {'hate': {'filtered': False, 'severity': 'safe'}, 'protected_material_code': {'filtered': False, 'detected': False}, 'protected_material_text': {'filtered': False, 'detected': False}, 'self_harm': {'filtered': False, 'severity': 'safe'}, 'sexual': {'filtered': False, 'severity': 'safe'}, 'violence': {'filtered': False, 'severity': 'safe'}}}, id='run--8f4a93ca-c5f5-4e46-92f8-305f26909ab8-0', usage_metadata={'input_tokens': 573, 'output_tokens': 622, 'total_tokens': 1195, 'input_token_details': {'audio': 0, 'cache_read': 0}, 'output_token_details': {'audio': 0, 'reasoning': 448}})]}\n",
      "{'messages': [HumanMessage(content='please send me a push notification with the current AED/HKD exchange rate ', additional_kwargs={}, response_metadata={}, id='0acee8b9-0635-4cef-85b3-7791344976e8'), AIMessage(content='', additional_kwargs={'tool_calls': [{'id': 'call_wCe8zsGfVuRISCpIKxiD4TIA', 'function': {'arguments': '{\"__arg1\":\"current AED to HKD exchange rate\"}', 'name': 'google_search'}, 'type': 'function'}], 'refusal': None}, response_metadata={'token_usage': {'completion_tokens': 669, 'prompt_tokens': 101, 'total_tokens': 770, 'completion_tokens_details': {'accepted_prediction_tokens': 0, 'audio_tokens': 0, 'reasoning_tokens': 640, 'rejected_prediction_tokens': 0}, 'prompt_tokens_details': {'audio_tokens': 0, 'cached_tokens': 0}}, 'model_name': 'o4-mini-2025-04-16', 'system_fingerprint': None, 'id': 'chatcmpl-BpzhnWfNoyc6WSmNT0312HPPt4BUB', 'service_tier': None, 'prompt_filter_results': [{'prompt_index': 0, 'content_filter_results': {'hate': {'filtered': False, 'severity': 'safe'}, 'jailbreak': {'filtered': False, 'detected': False}, 'self_harm': {'filtered': False, 'severity': 'safe'}, 'sexual': {'filtered': False, 'severity': 'safe'}, 'violence': {'filtered': False, 'severity': 'safe'}}}], 'finish_reason': 'tool_calls', 'logprobs': None, 'content_filter_results': {}}, id='run--c2e68188-8c11-45a4-a432-6370d40d5a16-0', tool_calls=[{'name': 'google_search', 'args': {'__arg1': 'current AED to HKD exchange rate'}, 'id': 'call_wCe8zsGfVuRISCpIKxiD4TIA', 'type': 'tool_call'}], usage_metadata={'input_tokens': 101, 'output_tokens': 669, 'total_tokens': 770, 'input_token_details': {'audio': 0, 'cache_read': 0}, 'output_token_details': {'audio': 0, 'reasoning': 640}}), ToolMessage(content='2.14 Hong Kong Dollar', name='google_search', id='5b7f4bd5-bdfb-44be-b2b6-9fb84e91425b', tool_call_id='call_wCe8zsGfVuRISCpIKxiD4TIA'), AIMessage(content='', additional_kwargs={'tool_calls': [{'id': 'call_Ap8a7RV6vm7Obp1VjvBW4cLo', 'function': {'arguments': '{\"__arg1\":\"Current AED/HKD exchange rate is 1 AED = 2.14 HKD.\"}', 'name': 'push_notification'}, 'type': 'function'}], 'refusal': None}, response_metadata={'token_usage': {'completion_tokens': 104, 'prompt_tokens': 141, 'total_tokens': 245, 'completion_tokens_details': {'accepted_prediction_tokens': 0, 'audio_tokens': 0, 'reasoning_tokens': 64, 'rejected_prediction_tokens': 0}, 'prompt_tokens_details': {'audio_tokens': 0, 'cached_tokens': 0}}, 'model_name': 'o4-mini-2025-04-16', 'system_fingerprint': None, 'id': 'chatcmpl-BpzhuD66cv7gHG8YlHNEQN4IfNUXh', 'service_tier': None, 'prompt_filter_results': [{'prompt_index': 0, 'content_filter_results': {'hate': {'filtered': False, 'severity': 'safe'}, 'jailbreak': {'filtered': False, 'detected': False}, 'self_harm': {'filtered': False, 'severity': 'safe'}, 'sexual': {'filtered': False, 'severity': 'safe'}, 'violence': {'filtered': False, 'severity': 'safe'}}}], 'finish_reason': 'tool_calls', 'logprobs': None, 'content_filter_results': {}}, id='run--42250365-ecba-4d9c-b93c-35effb45f6ad-0', tool_calls=[{'name': 'push_notification', 'args': {'__arg1': 'Current AED/HKD exchange rate is 1 AED = 2.14 HKD.'}, 'id': 'call_Ap8a7RV6vm7Obp1VjvBW4cLo', 'type': 'tool_call'}], usage_metadata={'input_tokens': 141, 'output_tokens': 104, 'total_tokens': 245, 'input_token_details': {'audio': 0, 'cache_read': 0}, 'output_token_details': {'audio': 0, 'reasoning': 64}}), ToolMessage(content='null', name='push_notification', id='d38bc3e7-4fc0-48fd-ae2e-da4e19c4d255', tool_call_id='call_Ap8a7RV6vm7Obp1VjvBW4cLo'), AIMessage(content='Push notification sent!', additional_kwargs={'refusal': None}, response_metadata={'token_usage': {'completion_tokens': 17, 'prompt_tokens': 187, 'total_tokens': 204, 'completion_tokens_details': {'accepted_prediction_tokens': 0, 'audio_tokens': 0, 'reasoning_tokens': 0, 'rejected_prediction_tokens': 0}, 'prompt_tokens_details': {'audio_tokens': 0, 'cached_tokens': 0}}, 'model_name': 'o4-mini-2025-04-16', 'system_fingerprint': None, 'id': 'chatcmpl-BpzhxrGwJlSyqrgn98yJZlE6oBk9j', 'service_tier': None, 'prompt_filter_results': [{'prompt_index': 0, 'content_filter_results': {'hate': {'filtered': False, 'severity': 'safe'}, 'jailbreak': {'filtered': False, 'detected': False}, 'self_harm': {'filtered': False, 'severity': 'safe'}, 'sexual': {'filtered': False, 'severity': 'safe'}, 'violence': {'filtered': False, 'severity': 'safe'}}}], 'finish_reason': 'stop', 'logprobs': None, 'content_filter_results': {'hate': {'filtered': False, 'severity': 'safe'}, 'protected_material_code': {'filtered': False, 'detected': False}, 'protected_material_text': {'filtered': False, 'detected': False}, 'self_harm': {'filtered': False, 'severity': 'safe'}, 'sexual': {'filtered': False, 'severity': 'safe'}, 'violence': {'filtered': False, 'severity': 'safe'}}}, id='run--d5bf1b5e-f24d-4254-81ab-4664c54c9d1b-0', usage_metadata={'input_tokens': 187, 'output_tokens': 17, 'total_tokens': 204, 'input_token_details': {'audio': 0, 'cache_read': 0}, 'output_token_details': {'audio': 0, 'reasoning': 0}})]}\n",
      "{'messages': [HumanMessage(content='Send a push notification stating the current temperature in dubai in celsius', additional_kwargs={}, response_metadata={}, id='06f88209-2ad3-4730-ad5c-88eb4e7da64d'), AIMessage(content='', additional_kwargs={'tool_calls': [{'id': 'call_x0JgESKlBYFLDYywyi15VRgw', 'function': {'arguments': '{\"__arg1\":\"current temperature in Dubai in Celsius\"}', 'name': 'google_search'}, 'type': 'function'}], 'refusal': None}, response_metadata={'token_usage': {'completion_tokens': 348, 'prompt_tokens': 100, 'total_tokens': 448, 'completion_tokens_details': {'accepted_prediction_tokens': 0, 'audio_tokens': 0, 'reasoning_tokens': 320, 'rejected_prediction_tokens': 0}, 'prompt_tokens_details': {'audio_tokens': 0, 'cached_tokens': 0}}, 'model_name': 'o4-mini-2025-04-16', 'system_fingerprint': None, 'id': 'chatcmpl-Bpzk195jJORodSccrUDNubDNXlXsD', 'service_tier': None, 'prompt_filter_results': [{'prompt_index': 0, 'content_filter_results': {'hate': {'filtered': False, 'severity': 'safe'}, 'jailbreak': {'filtered': False, 'detected': False}, 'self_harm': {'filtered': False, 'severity': 'safe'}, 'sexual': {'filtered': False, 'severity': 'safe'}, 'violence': {'filtered': False, 'severity': 'safe'}}}], 'finish_reason': 'tool_calls', 'logprobs': None, 'content_filter_results': {}}, id='run--1f1f6f74-19c9-41c5-91e7-6b6f7f5deee3-0', tool_calls=[{'name': 'google_search', 'args': {'__arg1': 'current temperature in Dubai in Celsius'}, 'id': 'call_x0JgESKlBYFLDYywyi15VRgw', 'type': 'tool_call'}], usage_metadata={'input_tokens': 100, 'output_tokens': 348, 'total_tokens': 448, 'input_token_details': {'audio': 0, 'cache_read': 0}, 'output_token_details': {'audio': 0, 'reasoning': 320}}), ToolMessage(content='Current Weather · 93°F Sunny · RealFeel® 107°. Very Hot. RealFeel Guide. Very Hot. 101° to 107°. Caution advised. Danger of dehydration, heat stroke, heat ... Today. ,. Sunny and a moderate breeze. Sunny. Sunny. ,. High40° 104°. Low26° 79 ... Temperature feels like 49°120°. Precipitation is not expected. A moderate ... Clear. Feels Like: 110 °F Forecast: 97 / 88 °F Wind: 12 mph ↑ from West. Location: Dubai International Airport. Current Time: Jul 5, 2025 at 4:02:44 pm. Current Weather. 7:47 PM. 93°F. Clear. RealFeel® 107° · Looking Ahead. Less humid Monday. Dubai Weather Radar. Dubai Weather Radar. Static Radar Temporarily ... Temperature Unit Selection. °Celsius. °Fahrenheit. Dubai, DU, AE Current Weather. Dubai, DU, AE. Updated 12 minutes ago. 37. °C. Haze. Feels 54. A mostly clear sky. Areas of blowing dust. Low 87F. Winds WSW at 10 to 20 mph. Today. 37° Maximum daytime temperature: 37° Celsius; 30° Minimum nighttime temperature: 30° Celsius; · Sun 6 Jul. 36° Maximum daytime temperature: 36° Celsius; ... 2 Week Extended Forecast in Dubai, Dubai, United Arab Emirates ; 98 / 89 °F · Mostly sunny. 106 °F ... Weather Today in Dubai, Dubai, United Arab Emirates ; High/Low. 35°/32° ; Wind. 14 mph ; Humidity. 69% ; Dew Point. 28° ; Pressure. 995.3 mb. Currently, in Dubai, bright sunshine and fair conditions make for a beautiful day. The temperature is a humid 33°C, and the real-feel temperature of which ...', name='google_search', id='90e6c8be-92ab-4c52-870e-92534709fe05', tool_call_id='call_x0JgESKlBYFLDYywyi15VRgw'), AIMessage(content='', additional_kwargs={'tool_calls': [{'id': 'call_ZfkyLUOf5NheLgsgocdwzUPY', 'function': {'arguments': '{\"__arg1\":\"Current temperature in Dubai is 37°C.\"}', 'name': 'push_notification'}, 'type': 'function'}], 'refusal': None}, response_metadata={'token_usage': {'completion_tokens': 159, 'prompt_tokens': 547, 'total_tokens': 706, 'completion_tokens_details': {'accepted_prediction_tokens': 0, 'audio_tokens': 0, 'reasoning_tokens': 128, 'rejected_prediction_tokens': 0}, 'prompt_tokens_details': {'audio_tokens': 0, 'cached_tokens': 0}}, 'model_name': 'o4-mini-2025-04-16', 'system_fingerprint': None, 'id': 'chatcmpl-Bpzk7CMXElnLkLdsjYLkaLgJiDXln', 'service_tier': None, 'prompt_filter_results': [{'prompt_index': 0, 'content_filter_results': {'hate': {'filtered': False, 'severity': 'safe'}, 'jailbreak': {'filtered': False, 'detected': False}, 'self_harm': {'filtered': False, 'severity': 'safe'}, 'sexual': {'filtered': False, 'severity': 'safe'}, 'violence': {'filtered': False, 'severity': 'safe'}}}], 'finish_reason': 'tool_calls', 'logprobs': None, 'content_filter_results': {}}, id='run--6989e24b-17e7-4cb3-97f1-27dc4f944211-0', tool_calls=[{'name': 'push_notification', 'args': {'__arg1': 'Current temperature in Dubai is 37°C.'}, 'id': 'call_ZfkyLUOf5NheLgsgocdwzUPY', 'type': 'tool_call'}], usage_metadata={'input_tokens': 547, 'output_tokens': 159, 'total_tokens': 706, 'input_token_details': {'audio': 0, 'cache_read': 0}, 'output_token_details': {'audio': 0, 'reasoning': 128}}), ToolMessage(content='null', name='push_notification', id='845bb1b2-e8f6-480b-b203-bd650d148851', tool_call_id='call_ZfkyLUOf5NheLgsgocdwzUPY'), AIMessage(content='Push notification sent!', additional_kwargs={'refusal': None}, response_metadata={'token_usage': {'completion_tokens': 17, 'prompt_tokens': 588, 'total_tokens': 605, 'completion_tokens_details': {'accepted_prediction_tokens': 0, 'audio_tokens': 0, 'reasoning_tokens': 0, 'rejected_prediction_tokens': 0}, 'prompt_tokens_details': {'audio_tokens': 0, 'cached_tokens': 0}}, 'model_name': 'o4-mini-2025-04-16', 'system_fingerprint': None, 'id': 'chatcmpl-BpzkMDOpt67E5Fz2xl8ZeM5g18WJb', 'service_tier': None, 'prompt_filter_results': [{'prompt_index': 0, 'content_filter_results': {'hate': {'filtered': False, 'severity': 'safe'}, 'jailbreak': {'filtered': False, 'detected': False}, 'self_harm': {'filtered': False, 'severity': 'safe'}, 'sexual': {'filtered': False, 'severity': 'safe'}, 'violence': {'filtered': False, 'severity': 'safe'}}}], 'finish_reason': 'stop', 'logprobs': None, 'content_filter_results': {'hate': {'filtered': False, 'severity': 'safe'}, 'protected_material_code': {'filtered': False, 'detected': False}, 'protected_material_text': {'filtered': False, 'detected': False}, 'self_harm': {'filtered': False, 'severity': 'safe'}, 'sexual': {'filtered': False, 'severity': 'safe'}, 'violence': {'filtered': False, 'severity': 'safe'}}}, id='run--0bf99b0e-2da6-4abb-8751-d6024d1b5888-0', usage_metadata={'input_tokens': 588, 'output_tokens': 17, 'total_tokens': 605, 'input_token_details': {'audio': 0, 'cache_read': 0}, 'output_token_details': {'audio': 0, 'reasoning': 0}})]}\n",
      "{'messages': [HumanMessage(content='Send me push notification  with a brief summary of who is zakir naik', additional_kwargs={}, response_metadata={}, id='237a1ec5-deb6-42e0-b2a0-163a38414950'), AIMessage(content='', additional_kwargs={'tool_calls': [{'id': 'call_5MgO2AY5iToPwnI02tV6yPn5', 'function': {'arguments': '{\"__arg1\":\"Zakir Naik is an Indian Islamic preacher and founder of the Islamic Research Foundation, known for his televised comparative religion lectures on Peace TV. His speeches have sparked controversy over alleged extremist views, leading to bans in several countries. Currently residing in Malaysia, he faces legal inquiries from India.\"}', 'name': 'push_notification'}, 'type': 'function'}], 'refusal': None}, response_metadata={'token_usage': {'completion_tokens': 335, 'prompt_tokens': 101, 'total_tokens': 436, 'completion_tokens_details': {'accepted_prediction_tokens': 0, 'audio_tokens': 0, 'reasoning_tokens': 256, 'rejected_prediction_tokens': 0}, 'prompt_tokens_details': {'audio_tokens': 0, 'cached_tokens': 0}}, 'model_name': 'o4-mini-2025-04-16', 'system_fingerprint': None, 'id': 'chatcmpl-Bpzldku5xWycLuuTkGzGgE7ahdwkl', 'service_tier': None, 'prompt_filter_results': [{'prompt_index': 0, 'content_filter_results': {'hate': {'filtered': False, 'severity': 'safe'}, 'jailbreak': {'filtered': False, 'detected': False}, 'self_harm': {'filtered': False, 'severity': 'safe'}, 'sexual': {'filtered': False, 'severity': 'safe'}, 'violence': {'filtered': False, 'severity': 'safe'}}}], 'finish_reason': 'tool_calls', 'logprobs': None, 'content_filter_results': {}}, id='run--5e6e1be1-3905-4039-8333-7486c1453bde-0', tool_calls=[{'name': 'push_notification', 'args': {'__arg1': 'Zakir Naik is an Indian Islamic preacher and founder of the Islamic Research Foundation, known for his televised comparative religion lectures on Peace TV. His speeches have sparked controversy over alleged extremist views, leading to bans in several countries. Currently residing in Malaysia, he faces legal inquiries from India.'}, 'id': 'call_5MgO2AY5iToPwnI02tV6yPn5', 'type': 'tool_call'}], usage_metadata={'input_tokens': 101, 'output_tokens': 335, 'total_tokens': 436, 'input_token_details': {'audio': 0, 'cache_read': 0}, 'output_token_details': {'audio': 0, 'reasoning': 256}}), ToolMessage(content='null', name='push_notification', id='f0ecc338-0658-460f-8c38-95c4d336161e', tool_call_id='call_5MgO2AY5iToPwnI02tV6yPn5'), AIMessage(content='Push notification sent with the summary of Zakir Naik.', additional_kwargs={'refusal': None}, response_metadata={'token_usage': {'completion_tokens': 25, 'prompt_tokens': 186, 'total_tokens': 211, 'completion_tokens_details': {'accepted_prediction_tokens': 0, 'audio_tokens': 0, 'reasoning_tokens': 0, 'rejected_prediction_tokens': 0}, 'prompt_tokens_details': {'audio_tokens': 0, 'cached_tokens': 0}}, 'model_name': 'o4-mini-2025-04-16', 'system_fingerprint': None, 'id': 'chatcmpl-BpzlhklHp6ra4A820HHY7SL0mIDpx', 'service_tier': None, 'prompt_filter_results': [{'prompt_index': 0, 'content_filter_results': {'hate': {'filtered': False, 'severity': 'safe'}, 'jailbreak': {'filtered': False, 'detected': False}, 'self_harm': {'filtered': False, 'severity': 'safe'}, 'sexual': {'filtered': False, 'severity': 'safe'}, 'violence': {'filtered': False, 'severity': 'safe'}}}], 'finish_reason': 'stop', 'logprobs': None, 'content_filter_results': {'hate': {'filtered': False, 'severity': 'safe'}, 'protected_material_code': {'filtered': False, 'detected': False}, 'protected_material_text': {'filtered': False, 'detected': False}, 'self_harm': {'filtered': False, 'severity': 'safe'}, 'sexual': {'filtered': False, 'severity': 'safe'}, 'violence': {'filtered': False, 'severity': 'safe'}}}, id='run--3bf7b4f2-c804-4c52-8581-859ff84d644b-0', usage_metadata={'input_tokens': 186, 'output_tokens': 25, 'total_tokens': 211, 'input_token_details': {'audio': 0, 'cache_read': 0}, 'output_token_details': {'audio': 0, 'reasoning': 0}})]}\n"
     ]
    }
   ],
   "source": [
    "# Create a simple chat interface using gradio\n",
    "def invoke_graph(user_input: str, history):\n",
    "    initial_state = State(messages=[{\"role\": \"user\", \"content\": user_input}])\n",
    "    result = graph2.invoke(initial_state)\n",
    "    print(result)\n",
    "    return result[\"messages\"][-1].content\n",
    "\n",
    "gr.ChatInterface(invoke_graph, type=\"messages\").launch()"
   ]
  },
  {
   "cell_type": "code",
   "execution_count": null,
   "id": "aeb8f51d",
   "metadata": {},
   "outputs": [],
   "source": []
  }
 ],
 "metadata": {
  "kernelspec": {
   "display_name": ".venv",
   "language": "python",
   "name": "python3"
  },
  "language_info": {
   "codemirror_mode": {
    "name": "ipython",
    "version": 3
   },
   "file_extension": ".py",
   "mimetype": "text/x-python",
   "name": "python",
   "nbconvert_exporter": "python",
   "pygments_lexer": "ipython3",
   "version": "3.12.6"
  }
 },
 "nbformat": 4,
 "nbformat_minor": 5
}
