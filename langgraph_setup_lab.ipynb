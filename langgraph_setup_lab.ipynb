{
 "cells": [
  {
   "cell_type": "code",
   "execution_count": 11,
   "id": "a30c797a",
   "metadata": {},
   "outputs": [
    {
     "name": "stderr",
     "output_type": "stream",
     "text": [
      "c:\\Users\\edan\\repos\\personal_projects\\AI\\Agentic_AI_Projects\\langgraph_sidekick\\.venv\\Lib\\site-packages\\tqdm\\auto.py:21: TqdmWarning: IProgress not found. Please update jupyter and ipywidgets. See https://ipywidgets.readthedocs.io/en/stable/user_install.html\n",
      "  from .autonotebook import tqdm as notebook_tqdm\n"
     ]
    }
   ],
   "source": [
    "from typing import Annotated\n",
    "from langgraph.graph import StateGraph, START, END\n",
    "from langgraph.graph.message import add_messages # A reducer function\n",
    "from langchain_openai import ChatOpenAI, AzureChatOpenAI\n",
    "from pydantic import BaseModel\n",
    "from dotenv import load_dotenv\n",
    "from typing import Annotated\n",
    "from databricks_langchain import ChatDatabricks\n",
    "import os\n",
    "from client import AzureAIClient\n",
    "from IPython.display import Image, display\n",
    "import gradio as gr"
   ]
  },
  {
   "cell_type": "code",
   "execution_count": 12,
   "id": "30240ff6",
   "metadata": {},
   "outputs": [
    {
     "data": {
      "text/plain": [
       "True"
      ]
     },
     "execution_count": 12,
     "metadata": {},
     "output_type": "execute_result"
    }
   ],
   "source": [
    "load_dotenv(override=True)"
   ]
  },
  {
   "cell_type": "code",
   "execution_count": 13,
   "metadata": {},
   "outputs": [],
   "source": [
    "# Create a simple state\n",
    "class State(BaseModel):\n",
    "    messages: Annotated[list, add_messages]"
   ]
  },
  {
   "cell_type": "code",
   "execution_count": 14,
   "id": "715c7372",
   "metadata": {},
   "outputs": [
    {
     "name": "stderr",
     "output_type": "stream",
     "text": [
      "\u001b[32m2025-07-05 18:34:51.342\u001b[0m | \u001b[32m\u001b[1mSUCCESS \u001b[0m | \u001b[36mclient\u001b[0m:\u001b[36m_get_token_provider\u001b[0m:\u001b[36m44\u001b[0m - \u001b[32m\u001b[1mSuccessfully initialized Azure Credentials!!\u001b[0m\n"
     ]
    }
   ],
   "source": [
    "# Get llms\n",
    "llm_db = ChatDatabricks(endpoint=\"databricks-claude-3-7-sonnet\", max_tokens=1000)\n",
    "\n",
    "llm_az = AzureChatOpenAI(\n",
    "    api_version=\"2024-10-21\",\n",
    "    azure_ad_token_provider=AzureAIClient().token_provider,\n",
    "    azure_deployment=\"gpt-4o\"\n",
    ")"
   ]
  },
  {
   "cell_type": "code",
   "execution_count": 15,
   "metadata": {},
   "outputs": [
    {
     "data": {
      "image/png": "[encoded data removed]",
      "text/plain": [
       "<IPython.core.display.Image object>"
      ]
     },
     "metadata": {},
     "output_type": "display_data"
    }
   ],
   "source": [
    "# Build a graph\n",
    "graph_builder = StateGraph(state_schema=State)\n",
    "\n",
    "# Create node\n",
    "def chatbot_node(old_state: State) -> State:\n",
    "    response = llm_db.invoke(old_state.messages)\n",
    "    new_state = State(messages=[response])\n",
    "    return new_state\n",
    "\n",
    "graph_builder.add_node(\"chatbot_node\", chatbot_node)\n",
    "\n",
    "# Create Edges\n",
    "graph_builder.add_edge(START, \"chatbot_node\")\n",
    "graph_builder.add_edge(\"chatbot_node\", END)\n",
    "\n",
    "# Create the graph\n",
    "graph = graph_builder.compile()\n",
    "\n",
    "display(Image(graph.get_graph().draw_mermaid_png()))"
   ]
  },
  {
   "cell_type": "code",
   "execution_count": null,
   "id": "7844d647",
   "metadata": {},
   "outputs": [
    {
     "name": "stdout",
     "output_type": "stream",
     "text": [
      "* Running on local URL:  http://127.0.0.1:7860\n",
      "* To create a public link, set `share=True` in `launch()`.\n"
     ]
    },
    {
     "data": {
      "text/html": [
       "<div><iframe src=\"http://127.0.0.1:7860/\" width=\"100%\" height=\"500\" allow=\"autoplay; camera; microphone; clipboard-read; clipboard-write;\" frameborder=\"0\" allowfullscreen></iframe></div>"
      ],
      "text/plain": [
       "<IPython.core.display.HTML object>"
      ]
     },
     "metadata": {},
     "output_type": "display_data"
    },
    {
     "data": {
      "text/plain": []
     },
     "execution_count": 17,
     "metadata": {},
     "output_type": "execute_result"
    },
    {
     "name": "stdout",
     "output_type": "stream",
     "text": [
      "{'messages': [HumanMessage(content='hi there', additional_kwargs={}, response_metadata={}, id='9f0a53f1-a8fb-4357-9964-ae23da3ae999'), AIMessage(content=\"Hello! How can I assist you today? I'm here to help with any questions or tasks you might have.\", additional_kwargs={}, response_metadata={'model': 'eu.anthropic.claude-3-7-sonnet-20250219-v1:0', 'usage': {'prompt_tokens': 9, 'completion_tokens': 26, 'total_tokens': 35}, 'object': 'chat.completion', 'id': 'msg_bdrk_01BhCaodb3KuqwNtsMMSVFcn', 'created': 1751726126, 'model_name': 'eu.anthropic.claude-3-7-sonnet-20250219-v1:0'}, id='run--c1eb845d-f95a-41ba-bf67-f392c6d76ebb-0')]}\n",
      "{'messages': [HumanMessage(content='Do you work properly ?', additional_kwargs={}, response_metadata={}, id='558a42b7-80c5-45ab-9574-472b06795895'), AIMessage(content=\"Yes, I'm working properly. I'm designed to be helpful, harmless, and honest in my interactions. I can answer questions, provide information, engage in conversation, and assist with various tasks within my capabilities. If you have any specific concerns about my functioning or if there's something particular you'd like me to help with, please let me know.\", additional_kwargs={}, response_metadata={'model': 'eu.anthropic.claude-3-7-sonnet-20250219-v1:0', 'usage': {'prompt_tokens': 12, 'completion_tokens': 75, 'total_tokens': 87}, 'object': 'chat.completion', 'id': 'msg_bdrk_016VnxbzHHy9bDpZNMSkQYAY', 'created': 1751726136, 'model_name': 'eu.anthropic.claude-3-7-sonnet-20250219-v1:0'}, id='run--2d914eb8-0ce7-4d2e-9872-b401b8153853-0')]}\n",
      "{'messages': [HumanMessage(content='who is the current president of India?', additional_kwargs={}, response_metadata={}, id='fc28d37a-72c6-48b7-982c-4c650f4f79cf'), AIMessage(content='The current President of India is Droupadi Murmu. She took office on July 25, 2022, and is the 15th President of India. She is also the second woman to hold this position and the first person from a tribal community to be elected as the President of India.', additional_kwargs={}, response_metadata={'model': 'eu.anthropic.claude-3-7-sonnet-20250219-v1:0', 'usage': {'prompt_tokens': 15, 'completion_tokens': 66, 'total_tokens': 81}, 'object': 'chat.completion', 'id': 'msg_bdrk_01KsXMYUCLtzpNCaABsd35zg', 'created': 1751726175, 'model_name': 'eu.anthropic.claude-3-7-sonnet-20250219-v1:0'}, id='run--189e97b1-3b60-485a-a6d8-19c5e9303bd7-0')]}\n",
      "{'messages': [HumanMessage(content='what is todays date ?', additional_kwargs={}, response_metadata={}, id='6b01c9e4-bf88-4769-85dc-436962c5b169'), AIMessage(content=\"Today's date is May 10, 2023.\", additional_kwargs={}, response_metadata={'model': 'eu.anthropic.claude-3-7-sonnet-20250219-v1:0', 'usage': {'prompt_tokens': 13, 'completion_tokens': 15, 'total_tokens': 28}, 'object': 'chat.completion', 'id': 'msg_bdrk_012ToPgTmbS8W7JiaDqZeQRt', 'created': 1751726196, 'model_name': 'eu.anthropic.claude-3-7-sonnet-20250219-v1:0'}, id='run--13047fbf-6c38-4e1b-be7b-3abd32701829-0')]}\n"
     ]
    }
   ],
   "source": [
    "# Create a simple chat interface using gradio\n",
    "def chat(user_input: str, history):\n",
    "    initial_state = State(messages=[{\"role\": \"user\", \"content\": user_input}])\n",
    "    result = graph.invoke(initial_state)\n",
    "    print(result)\n",
    "    return result[\"messages\"][-1].content\n",
    "\n",
    "gr.ChatInterface(chat, type=\"messages\").launch()"
   ]
  },
  {
   "cell_type": "code",
   "execution_count": null,
   "id": "71d0a7ec",
   "metadata": {},
   "outputs": [],
   "source": []
  },
  {
   "cell_type": "code",
   "execution_count": null,
   "id": "889d959b",
   "metadata": {},
   "outputs": [],
   "source": []
  },
  {
   "cell_type": "code",
   "execution_count": null,
   "id": "9e7f6017",
   "metadata": {},
   "outputs": [],
   "source": []
  },
  {
   "cell_type": "code",
   "execution_count": null,
   "id": "8a61b89a",
   "metadata": {},
   "outputs": [],
   "source": []
  },
  {
   "cell_type": "code",
   "execution_count": 5,
   "id": "a76193df",
   "metadata": {},
   "outputs": [
    {
     "ename": "ValidationError",
     "evalue": "1 validation error for GoogleSerperAPIWrapper\n  Value error, Did not find serper_api_key, please add an environment variable `SERPER_API_KEY` which contains it, or pass `serper_api_key` as a named parameter. [type=value_error, input_value={}, input_type=dict]\n    For further information visit https://errors.pydantic.dev/2.11/v/value_error",
     "output_type": "error",
     "traceback": [
      "\u001b[31m---------------------------------------------------------------------------\u001b[39m",
      "\u001b[31mValidationError\u001b[39m                           Traceback (most recent call last)",
      "\u001b[36mCell\u001b[39m\u001b[36m \u001b[39m\u001b[32mIn[5]\u001b[39m\u001b[32m, line 4\u001b[39m\n\u001b[32m      1\u001b[39m \u001b[38;5;66;03m# Get a nice googler serper fucntion\u001b[39;00m\n\u001b[32m      2\u001b[39m \u001b[38;5;28;01mfrom\u001b[39;00m\u001b[38;5;250m \u001b[39m\u001b[34;01mlangchain_community\u001b[39;00m\u001b[34;01m.\u001b[39;00m\u001b[34;01mutilities\u001b[39;00m\u001b[38;5;250m \u001b[39m\u001b[38;5;28;01mimport\u001b[39;00m GoogleSerperAPIWrapper\n\u001b[32m----> \u001b[39m\u001b[32m4\u001b[39m serper = \u001b[43mGoogleSerperAPIWrapper\u001b[49m\u001b[43m(\u001b[49m\u001b[43m)\u001b[49m\n\u001b[32m      5\u001b[39m serper.run(\u001b[33m\"\u001b[39m\u001b[33mWhat is the current date?\u001b[39m\u001b[33m\"\u001b[39m)\n",
      "\u001b[36mFile \u001b[39m\u001b[32mc:\\Users\\edan\\repos\\personal_projects\\AI\\Agentic_AI_Projects\\langgraph_sidekick\\.venv\\Lib\\site-packages\\pydantic\\main.py:253\u001b[39m, in \u001b[36mBaseModel.__init__\u001b[39m\u001b[34m(self, **data)\u001b[39m\n\u001b[32m    251\u001b[39m \u001b[38;5;66;03m# `__tracebackhide__` tells pytest and some other tools to omit this function from tracebacks\u001b[39;00m\n\u001b[32m    252\u001b[39m __tracebackhide__ = \u001b[38;5;28;01mTrue\u001b[39;00m\n\u001b[32m--> \u001b[39m\u001b[32m253\u001b[39m validated_self = \u001b[38;5;28;43mself\u001b[39;49m\u001b[43m.\u001b[49m\u001b[43m__pydantic_validator__\u001b[49m\u001b[43m.\u001b[49m\u001b[43mvalidate_python\u001b[49m\u001b[43m(\u001b[49m\u001b[43mdata\u001b[49m\u001b[43m,\u001b[49m\u001b[43m \u001b[49m\u001b[43mself_instance\u001b[49m\u001b[43m=\u001b[49m\u001b[38;5;28;43mself\u001b[39;49m\u001b[43m)\u001b[49m\n\u001b[32m    254\u001b[39m \u001b[38;5;28;01mif\u001b[39;00m \u001b[38;5;28mself\u001b[39m \u001b[38;5;129;01mis\u001b[39;00m \u001b[38;5;129;01mnot\u001b[39;00m validated_self:\n\u001b[32m    255\u001b[39m     warnings.warn(\n\u001b[32m    256\u001b[39m         \u001b[33m'\u001b[39m\u001b[33mA custom validator is returning a value other than `self`.\u001b[39m\u001b[38;5;130;01m\\n\u001b[39;00m\u001b[33m'\u001b[39m\n\u001b[32m    257\u001b[39m         \u001b[33m\"\u001b[39m\u001b[33mReturning anything other than `self` from a top level model validator isn\u001b[39m\u001b[33m'\u001b[39m\u001b[33mt supported when validating via `__init__`.\u001b[39m\u001b[38;5;130;01m\\n\u001b[39;00m\u001b[33m\"\u001b[39m\n\u001b[32m    258\u001b[39m         \u001b[33m'\u001b[39m\u001b[33mSee the `model_validator` docs (https://docs.pydantic.dev/latest/concepts/validators/#model-validators) for more details.\u001b[39m\u001b[33m'\u001b[39m,\n\u001b[32m    259\u001b[39m         stacklevel=\u001b[32m2\u001b[39m,\n\u001b[32m    260\u001b[39m     )\n",
      "\u001b[31mValidationError\u001b[39m: 1 validation error for GoogleSerperAPIWrapper\n  Value error, Did not find serper_api_key, please add an environment variable `SERPER_API_KEY` which contains it, or pass `serper_api_key` as a named parameter. [type=value_error, input_value={}, input_type=dict]\n    For further information visit https://errors.pydantic.dev/2.11/v/value_error"
     ]
    }
   ],
   "source": [
    "# Get a nice googler serper fucntion\n",
    "from langchain_community.utilities import GoogleSerperAPIWrapper\n",
    "\n",
    "serper = GoogleSerperAPIWrapper()\n",
    "serper.run(\"What is the current date?\")"
   ]
  }
 ],
 "metadata": {
  "kernelspec": {
   "display_name": ".venv",
   "language": "python",
   "name": "python3"
  },
  "language_info": {
   "codemirror_mode": {
    "name": "ipython",
    "version": 3
   },
   "file_extension": ".py",
   "mimetype": "text/x-python",
   "name": "python",
   "nbconvert_exporter": "python",
   "pygments_lexer": "ipython3",
   "version": "3.12.6"
  }
 },
 "nbformat": 4,
 "nbformat_minor": 5
}
