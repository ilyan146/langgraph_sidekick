{
 "cells": [
  {
   "cell_type": "code",
   "execution_count": 1,
   "id": "e4420b0b",
   "metadata": {},
   "outputs": [
    {
     "name": "stderr",
     "output_type": "stream",
     "text": [
      "c:\\Users\\edan\\repos\\personal_projects\\AI\\Agentic_AI_Projects\\langgraph_sidekick\\.venv\\Lib\\site-packages\\tqdm\\auto.py:21: TqdmWarning: IProgress not found. Please update jupyter and ipywidgets. See https://ipywidgets.readthedocs.io/en/stable/user_install.html\n",
      "  from .autonotebook import tqdm as notebook_tqdm\n"
     ]
    },
    {
     "data": {
      "text/plain": [
       "True"
      ]
     },
     "execution_count": 1,
     "metadata": {},
     "output_type": "execute_result"
    }
   ],
   "source": [
    "from typing import Annotated\n",
    "from langgraph.graph import StateGraph, START, END\n",
    "from langgraph.prebuilt import ToolNode, tools_condition\n",
    "from langgraph.graph.message import add_messages # A reducer function\n",
    "from langchain_openai import ChatOpenAI, AzureChatOpenAI\n",
    "from pydantic import BaseModel\n",
    "from dotenv import load_dotenv\n",
    "from typing import Annotated, Optional, Any\n",
    "from databricks_langchain import ChatDatabricks\n",
    "import os\n",
    "from client import AzureAIClient\n",
    "from IPython.display import Image, display\n",
    "import gradio as gr\n",
    "from langgraph.checkpoint.memory import MemorySaver\n",
    "from pydantic import BaseModel, Field\n",
    "import sqlite3\n",
    "from langgraph.checkpoint.sqlite import SqliteSaver\n",
    "from langgraph.checkpoint.sqlite.aio import AsyncSqliteSaver\n",
    "import aiosqlite\n",
    "from agent_tools import get_agent_tools, get_playwright_tools\n",
    "\n",
    "from langchain_core.messages import AIMessage, HumanMessage, SystemMessage\n",
    "import uuid\n",
    "\n",
    "load_dotenv(override=True)"
   ]
  },
  {
   "cell_type": "code",
   "execution_count": 2,
   "id": "bba0fc06",
   "metadata": {},
   "outputs": [],
   "source": [
    "import nest_asyncio\n",
    "nest_asyncio.apply()"
   ]
  },
  {
   "cell_type": "code",
   "execution_count": 3,
   "id": "8c8ae566",
   "metadata": {},
   "outputs": [
    {
     "name": "stderr",
     "output_type": "stream",
     "text": [
      "\u001b[32m2025-07-06 18:46:56.393\u001b[0m | \u001b[32m\u001b[1mSUCCESS \u001b[0m | \u001b[36mclient\u001b[0m:\u001b[36m_get_token_provider\u001b[0m:\u001b[36m41\u001b[0m - \u001b[32m\u001b[1mSuccessfully initialized Azure Credentials!!\u001b[0m\n"
     ]
    }
   ],
   "source": [
    "# Create a simple state\n",
    "class State(BaseModel):\n",
    "    messages: Annotated[list, add_messages]\n",
    "\n",
    "\n",
    "# Get llms\n",
    "llm_db = ChatDatabricks(endpoint=\"databricks-claude-3-7-sonnet\", max_tokens=1000)\n",
    "\n",
    "llm_az = AzureChatOpenAI(\n",
    "    api_version=\"2024-12-01-preview\",\n",
    "    azure_ad_token_provider=AzureAIClient().token_provider,\n",
    "    azure_deployment=\"gpt-4o\"\n",
    ")"
   ]
  },
  {
   "cell_type": "code",
   "execution_count": 4,
   "id": "1495777b",
   "metadata": {},
   "outputs": [
    {
     "name": "stdout",
     "output_type": "stream",
     "text": [
      "[Tool(name='google_serper_search_tool', description='Useful for when you need more information from an online search', func=<bound method GoogleSerperAPIWrapper.run of GoogleSerperAPIWrapper(k=10, gl='us', hl='en', type='search', result_key_for_type={'news': 'news', 'places': 'places', 'images': 'images', 'search': 'organic'}, tbs=None, serper_api_key='9ebe684e10f6f741b31dd52c20ed19bbdd175519', aiosession=None)>), Tool(name='push_notification_tool', description='Useful for sending push notifications to the user', func=<function push at 0x000001F2048A0360>), Tool(name='send_email_tool', description='Useful for sending emails to the user', func=<function send_email at 0x000001F2047FD6C0>), ClickTool(async_browser=<Browser type=<BrowserType name=chromium executable_path=C:\\Users\\edan\\AppData\\Local\\ms-playwright\\chromium-1179\\chrome-win\\chrome.exe> version=138.0.7204.23>), NavigateTool(async_browser=<Browser type=<BrowserType name=chromium executable_path=C:\\Users\\edan\\AppData\\Local\\ms-playwright\\chromium-1179\\chrome-win\\chrome.exe> version=138.0.7204.23>), NavigateBackTool(async_browser=<Browser type=<BrowserType name=chromium executable_path=C:\\Users\\edan\\AppData\\Local\\ms-playwright\\chromium-1179\\chrome-win\\chrome.exe> version=138.0.7204.23>), ExtractTextTool(async_browser=<Browser type=<BrowserType name=chromium executable_path=C:\\Users\\edan\\AppData\\Local\\ms-playwright\\chromium-1179\\chrome-win\\chrome.exe> version=138.0.7204.23>), ExtractHyperlinksTool(async_browser=<Browser type=<BrowserType name=chromium executable_path=C:\\Users\\edan\\AppData\\Local\\ms-playwright\\chromium-1179\\chrome-win\\chrome.exe> version=138.0.7204.23>), GetElementsTool(async_browser=<Browser type=<BrowserType name=chromium executable_path=C:\\Users\\edan\\AppData\\Local\\ms-playwright\\chromium-1179\\chrome-win\\chrome.exe> version=138.0.7204.23>), CurrentWebPageTool(async_browser=<Browser type=<BrowserType name=chromium executable_path=C:\\Users\\edan\\AppData\\Local\\ms-playwright\\chromium-1179\\chrome-win\\chrome.exe> version=138.0.7204.23>)]\n"
     ]
    }
   ],
   "source": [
    "# Get the tools\n",
    "tools_list = await get_agent_tools()\n",
    "playwright_tools, browser, playwright = await get_playwright_tools()\n",
    "\n",
    "agent_tools = tools_list + playwright_tools\n",
    "print(agent_tools)\n",
    "\n",
    "# Give the llm the tools\n",
    "llm_with_tools = llm_az.bind_tools(agent_tools)"
   ]
  },
  {
   "cell_type": "code",
   "execution_count": 5,
   "id": "050717d9",
   "metadata": {},
   "outputs": [
    {
     "name": "stdout",
     "output_type": "stream",
     "text": [
      "Tool Name: google_serper_search_tool == name='google_serper_search_tool' description='Useful for when you need more information from an online search' func=<bound method GoogleSerperAPIWrapper.run of GoogleSerperAPIWrapper(k=10, gl='us', hl='en', type='search', result_key_for_type={'news': 'news', 'places': 'places', 'images': 'images', 'search': 'organic'}, tbs=None, serper_api_key='9ebe684e10f6f741b31dd52c20ed19bbdd175519', aiosession=None)>\n",
      "Tool Name: push_notification_tool == name='push_notification_tool' description='Useful for sending push notifications to the user' func=<function push at 0x000001F2048A0360>\n",
      "Tool Name: send_email_tool == name='send_email_tool' description='Useful for sending emails to the user' func=<function send_email at 0x000001F2047FD6C0>\n",
      "Tool Name: click_element == async_browser=<Browser type=<BrowserType name=chromium executable_path=C:\\Users\\edan\\AppData\\Local\\ms-playwright\\chromium-1179\\chrome-win\\chrome.exe> version=138.0.7204.23>\n",
      "Tool Name: navigate_browser == async_browser=<Browser type=<BrowserType name=chromium executable_path=C:\\Users\\edan\\AppData\\Local\\ms-playwright\\chromium-1179\\chrome-win\\chrome.exe> version=138.0.7204.23>\n",
      "Tool Name: previous_webpage == async_browser=<Browser type=<BrowserType name=chromium executable_path=C:\\Users\\edan\\AppData\\Local\\ms-playwright\\chromium-1179\\chrome-win\\chrome.exe> version=138.0.7204.23>\n",
      "Tool Name: extract_text == async_browser=<Browser type=<BrowserType name=chromium executable_path=C:\\Users\\edan\\AppData\\Local\\ms-playwright\\chromium-1179\\chrome-win\\chrome.exe> version=138.0.7204.23>\n",
      "Tool Name: extract_hyperlinks == async_browser=<Browser type=<BrowserType name=chromium executable_path=C:\\Users\\edan\\AppData\\Local\\ms-playwright\\chromium-1179\\chrome-win\\chrome.exe> version=138.0.7204.23>\n",
      "Tool Name: get_elements == async_browser=<Browser type=<BrowserType name=chromium executable_path=C:\\Users\\edan\\AppData\\Local\\ms-playwright\\chromium-1179\\chrome-win\\chrome.exe> version=138.0.7204.23>\n",
      "Tool Name: current_webpage == async_browser=<Browser type=<BrowserType name=chromium executable_path=C:\\Users\\edan\\AppData\\Local\\ms-playwright\\chromium-1179\\chrome-win\\chrome.exe> version=138.0.7204.23>\n",
      "\n",
      "\n",
      " [Tool(name='push_notification_tool', description='Useful for sending push notifications to the user', func=<function push at 0x000001F2048A0360>), Tool(name='send_email_tool', description='Useful for sending emails to the user', func=<function send_email at 0x000001F2047FD6C0>), ClickTool(async_browser=<Browser type=<BrowserType name=chromium executable_path=C:\\Users\\edan\\AppData\\Local\\ms-playwright\\chromium-1179\\chrome-win\\chrome.exe> version=138.0.7204.23>), NavigateTool(async_browser=<Browser type=<BrowserType name=chromium executable_path=C:\\Users\\edan\\AppData\\Local\\ms-playwright\\chromium-1179\\chrome-win\\chrome.exe> version=138.0.7204.23>), NavigateBackTool(async_browser=<Browser type=<BrowserType name=chromium executable_path=C:\\Users\\edan\\AppData\\Local\\ms-playwright\\chromium-1179\\chrome-win\\chrome.exe> version=138.0.7204.23>), ExtractTextTool(async_browser=<Browser type=<BrowserType name=chromium executable_path=C:\\Users\\edan\\AppData\\Local\\ms-playwright\\chromium-1179\\chrome-win\\chrome.exe> version=138.0.7204.23>), ExtractHyperlinksTool(async_browser=<Browser type=<BrowserType name=chromium executable_path=C:\\Users\\edan\\AppData\\Local\\ms-playwright\\chromium-1179\\chrome-win\\chrome.exe> version=138.0.7204.23>), GetElementsTool(async_browser=<Browser type=<BrowserType name=chromium executable_path=C:\\Users\\edan\\AppData\\Local\\ms-playwright\\chromium-1179\\chrome-win\\chrome.exe> version=138.0.7204.23>), CurrentWebPageTool(async_browser=<Browser type=<BrowserType name=chromium executable_path=C:\\Users\\edan\\AppData\\Local\\ms-playwright\\chromium-1179\\chrome-win\\chrome.exe> version=138.0.7204.23>)]\n",
      "Tool Name: push_notification_tool == name='push_notification_tool' description='Useful for sending push notifications to the user' func=<function push at 0x000001F2048A0360>\n",
      "Tool Name: send_email_tool == name='send_email_tool' description='Useful for sending emails to the user' func=<function send_email at 0x000001F2047FD6C0>\n",
      "Tool Name: click_element == async_browser=<Browser type=<BrowserType name=chromium executable_path=C:\\Users\\edan\\AppData\\Local\\ms-playwright\\chromium-1179\\chrome-win\\chrome.exe> version=138.0.7204.23>\n",
      "Tool Name: navigate_browser == async_browser=<Browser type=<BrowserType name=chromium executable_path=C:\\Users\\edan\\AppData\\Local\\ms-playwright\\chromium-1179\\chrome-win\\chrome.exe> version=138.0.7204.23>\n",
      "Tool Name: previous_webpage == async_browser=<Browser type=<BrowserType name=chromium executable_path=C:\\Users\\edan\\AppData\\Local\\ms-playwright\\chromium-1179\\chrome-win\\chrome.exe> version=138.0.7204.23>\n",
      "Tool Name: extract_text == async_browser=<Browser type=<BrowserType name=chromium executable_path=C:\\Users\\edan\\AppData\\Local\\ms-playwright\\chromium-1179\\chrome-win\\chrome.exe> version=138.0.7204.23>\n",
      "Tool Name: extract_hyperlinks == async_browser=<Browser type=<BrowserType name=chromium executable_path=C:\\Users\\edan\\AppData\\Local\\ms-playwright\\chromium-1179\\chrome-win\\chrome.exe> version=138.0.7204.23>\n",
      "Tool Name: get_elements == async_browser=<Browser type=<BrowserType name=chromium executable_path=C:\\Users\\edan\\AppData\\Local\\ms-playwright\\chromium-1179\\chrome-win\\chrome.exe> version=138.0.7204.23>\n",
      "Tool Name: current_webpage == async_browser=<Browser type=<BrowserType name=chromium executable_path=C:\\Users\\edan\\AppData\\Local\\ms-playwright\\chromium-1179\\chrome-win\\chrome.exe> version=138.0.7204.23>\n"
     ]
    }
   ],
   "source": [
    "for tool in agent_tools:\n",
    "    print(f\"Tool Name: {tool.name} == {tool}\")\n",
    "\n",
    "# Drop the serper tool for testing the playwright tool\n",
    "agent_tools = [tool for tool in agent_tools if tool.name != \"google_serper_search_tool\"]\n",
    "print(\"\\n\\n\", agent_tools)\n",
    "for tool in agent_tools:\n",
    "    print(f\"Tool Name: {tool.name} == {tool}\")"
   ]
  },
  {
   "cell_type": "code",
   "execution_count": 6,
   "id": "c0390347",
   "metadata": {},
   "outputs": [],
   "source": [
    "# Memory database\n",
    "db_path=\"memory_db/sqlite_memory.db\"\n",
    "conn = sqlite3.connect(db_path, check_same_thread=False)\n",
    "\n",
    "async def setup_async_db():\n",
    "    async_conn = await aiosqlite.connect(db_path)\n",
    "    return async_conn\n",
    "\n",
    "async_conn = await setup_async_db()\n",
    "\n",
    "# sql_memory = SqliteSaver(conn)\n",
    "sql_memory = AsyncSqliteSaver(async_conn)\n",
    "\n",
    "# memory = MemorySaver()"
   ]
  },
  {
   "cell_type": "code",
   "execution_count": null,
   "id": "00dd0147",
   "metadata": {},
   "outputs": [],
   "source": [
    "# Chat function\n",
    "def chat(state: State) -> State:\n",
    "    response = llm_with_tools.invoke(state.messages)\n",
    "    new_state = State(messages=[response])\n",
    "    return new_state"
   ]
  },
  {
   "cell_type": "markdown",
   "id": "a7add86f",
   "metadata": {},
   "source": [
    "### Build Graph"
   ]
  },
  {
   "cell_type": "code",
   "execution_count": null,
   "id": "52b4e8ae",
   "metadata": {},
   "outputs": [],
   "source": [
    "graph_builder = StateGraph(state_schema=State)\n",
    "\n",
    "graph_builder.add_edge(START, \"chat\")\n",
    "graph_builder.add_node(\"chat\", chat)\n",
    "graph_builder.add_node(\"tools\", ToolNode(tools=agent_tools))\n",
    "\n",
    "graph_builder.add_conditional_edges(\"chat\", tools_condition, \"tools\")\n",
    "graph_builder.add_edge(\"tools\", \"chat\")\n",
    "\n",
    "graph = graph_builder.compile(checkpointer=sql_memory)\n",
    "# graph = graph_builder.compile(checkpointer=memory)\n",
    "display(Image(graph.get_graph().draw_mermaid_png()))"
   ]
  },
  {
   "cell_type": "markdown",
   "id": "7958cb20",
   "metadata": {},
   "source": [
    "### Create gradio chat function"
   ]
  },
  {
   "cell_type": "code",
   "execution_count": null,
   "id": "0081f87a",
   "metadata": {},
   "outputs": [],
   "source": [
    "config = {\"configurable\": {\"thread_id\": \"2\"}}\n",
    "\n",
    "async def gradio_chat(user_input: str, history):\n",
    "    state = State(messages=[{\"role\": \"user\", \"content\": user_input}])\n",
    "    response = await graph.ainvoke(state, config=config) # Config sets the thread to use in memory\n",
    "    print(response)\n",
    "\n",
    "    return response[\"messages\"][-1].content"
   ]
  },
  {
   "cell_type": "code",
   "execution_count": null,
   "id": "ffa847aa",
   "metadata": {},
   "outputs": [],
   "source": [
    "# Chat interface\n",
    "gr.ChatInterface(gradio_chat, type=\"messages\").launch()"
   ]
  },
  {
   "cell_type": "markdown",
   "id": "a48467d3",
   "metadata": {},
   "source": [
    "### Adding another Evaluator agent into the mix with some structured outputs"
   ]
  },
  {
   "cell_type": "code",
   "execution_count": 7,
   "id": "5f04a4fe",
   "metadata": {},
   "outputs": [],
   "source": [
    "class EvaluatorOutput(BaseModel):\n",
    "    feedback: str = Field(description=\"Feedback on the assistant's response\")\n",
    "    success_criteria_met: bool = Field(description=\"Whether the success criteria have been met\")\n",
    "    user_input_needed: bool = Field(description=\"True if more input is needed from the user, or clarification is required, or the assistant is stuck\")"
   ]
  },
  {
   "cell_type": "code",
   "execution_count": 8,
   "id": "5aa9096b",
   "metadata": {},
   "outputs": [],
   "source": [
    "# Make  a new state\n",
    "class State(BaseModel):\n",
    "    messages: Annotated[list, add_messages]\n",
    "    success_criteria: str\n",
    "    feedback_on_work: Optional[str]\n",
    "    success_criteria_met: bool\n",
    "    user_input_needed: bool"
   ]
  },
  {
   "cell_type": "code",
   "execution_count": 9,
   "id": "464ee322",
   "metadata": {},
   "outputs": [],
   "source": [
    "evaluator_llm = llm_db.with_structured_output(EvaluatorOutput)"
   ]
  },
  {
   "cell_type": "code",
   "execution_count": 10,
   "id": "4c853fdd",
   "metadata": {},
   "outputs": [],
   "source": [
    "# First assistant - aka - worker_agent \n",
    "def agent_worker(state: State) -> State:\n",
    "    system_message = f\"\"\"You are a helpful assistant that can use tools to complete tasks.\n",
    "    You keep working on a task until either you have a question or clarification for the user, or the success criteria is met.\n",
    "    This is the success criteria:\n",
    "    {state.success_criteria}\n",
    "    You should reply either with a question for the user about this assignment, or with your final response.\n",
    "    If you have a question for the user, you need to reply by clearly stating your question. \n",
    "    An example Quenstion might be: Question: please clarify whether you want a summary or a detailed answer\n",
    "\n",
    "    If you've finished, reply with the final answer, and don't ask a question; simply reply with the answer.\n",
    "    \"\"\"\n",
    "        \n",
    "    if state.feedback_on_work:\n",
    "        system_message += f\"\"\"\n",
    "        Previously you thought you completed the assignment, but your reply was rejected because the success criteria was not met.\n",
    "        Here is the feedback on why this was rejected:\n",
    "        {state.feedback_on_work}\n",
    "        With this feedback, please continue the assignment, ensuring that you meet the success criteria or have a question for the user.\"\"\"\n",
    "    \n",
    "    # Add in the system message\n",
    "    found_system_message = False\n",
    "    # messages = state[\"messages\"]\n",
    "    messages = state.messages\n",
    "    for message in messages:\n",
    "        if isinstance(message, SystemMessage):\n",
    "            message.content = system_message\n",
    "            found_system_message = True\n",
    "    \n",
    "    if not found_system_message:\n",
    "        messages = [SystemMessage(content=system_message)] + messages\n",
    "    \n",
    "    # Invoke the LLM with tools\n",
    "    response = llm_with_tools.invoke(messages)\n",
    "    new_state = state.model_copy(update={\"messages\": [response]})\n",
    "    # Return updated state\n",
    "    return new_state"
   ]
  },
  {
   "cell_type": "code",
   "execution_count": 11,
   "id": "390ce3ec",
   "metadata": {},
   "outputs": [],
   "source": [
    "# agent_worker routing - conditional edge that decides whether to route to the evaluator or to using tools\n",
    "def agent_worker_router(state: State) -> str:\n",
    "    last_message = state.messages[-1]\n",
    "    print(f\"Last message type: {type(last_message)}\")\n",
    "    print(f\"Last message content: {last_message}\")\n",
    "    \n",
    "    if hasattr(last_message, \"tool_calls\") and last_message.tool_calls:\n",
    "        return \"tools\"\n",
    "    else:\n",
    "        return \"agent_evaluator\""
   ]
  },
  {
   "cell_type": "code",
   "execution_count": 12,
   "id": "d34ee752",
   "metadata": {},
   "outputs": [],
   "source": [
    "# Convert the messages into a more followable format for the evalutor agent\n",
    "def format_converstation(messages: list[Any]) -> str:\n",
    "    convo = \"Conversation history:\\n\\n\"\n",
    "    for msg in messages:\n",
    "        if isinstance(msg, HumanMessage):\n",
    "            convo += f\"User: {msg.content}\\n\"\n",
    "        elif isinstance(msg, AIMessage):\n",
    "            text = msg.content or \"[Tools used]\"\n",
    "            convo += f\"Assistant: {text}\\n\"\n",
    "    return convo"
   ]
  },
  {
   "cell_type": "code",
   "execution_count": 13,
   "id": "ecb5c5ff",
   "metadata": {},
   "outputs": [],
   "source": [
    "# Second assistant - aka - evaluator_agent\n",
    "def agent_evaluator(state: State) -> State:\n",
    "    last_response = state.messages[-1].content\n",
    "\n",
    "    system_message = \"\"\"You are an evaluator that determines if a task has been completed successfully by an Assistant.\n",
    "    Assess the Assistant's last response based on the given criteria. Respond with your feedback, and with your decision on whether the success criteria has been met,\n",
    "    and whether more input is needed from the user.\"\"\"\n",
    "\n",
    "    user_message = f\"\"\"You are evaluating a conversation between the User and Assistant. You decide what action to take based on the last response from the Assistant.\n",
    "    Here is the conversation history:\n",
    "    {format_converstation(state.messages)}\n",
    "\n",
    "    The success criteria for this assignment is:\n",
    "    {state.success_criteria}\n",
    "\n",
    "    The final response from the Assistant is:\n",
    "    {last_response}\n",
    "\n",
    "    Respond with your feedback, and decide if the success criteria is met by this response.\n",
    "    Also, decide if more user input is required, either because the assistant has a question, needs clarification, or seems to be stuck and unable to answer without help.\n",
    "    \"\"\"\n",
    "\n",
    "    if state.feedback_on_work:\n",
    "        user_message += f\"Also, note that in a prior attempt from the Assistant, you provided this feedback: {state.feedback_on_work}\\n\"\n",
    "        user_message += \"If you're seeing the Assistant repeating the same mistakes, then consider responding that user input is required.\"\n",
    "    \n",
    "    evaluator_messages  = [SystemMessage(content=system_message), HumanMessage(content=user_message)]\n",
    "\n",
    "    evaluator_response = evaluator_llm.invoke(evaluator_messages)\n",
    "\n",
    "    new_state = State(\n",
    "        messages=[{\"role\": \"assistant\", \"content\": f\"Evaluator Feedback on this answer: {evaluator_response.feedback}\"}],\n",
    "        feedback_on_work=evaluator_response.feedback,\n",
    "        success_criteria_met=evaluator_response.success_criteria_met,\n",
    "        user_input_needed=evaluator_response.user_input_needed,\n",
    "        success_criteria=state.success_criteria,\n",
    "        )\n",
    "    \n",
    "    return new_state\n"
   ]
  },
  {
   "cell_type": "code",
   "execution_count": 14,
   "id": "c56ed0ed",
   "metadata": {},
   "outputs": [],
   "source": [
    "# Routing the agent evaluator for the edges\n",
    "\n",
    "def route_based_on_evaluation(state: State) -> str:\n",
    "    if state.success_criteria_met or state.user_input_needed:\n",
    "        return \"END\"\n",
    "    else:\n",
    "        return \"agent_worker\"\n"
   ]
  },
  {
   "cell_type": "code",
   "execution_count": 15,
   "id": "67a4cafc",
   "metadata": {},
   "outputs": [
    {
     "data": {
      "image/png": "[encoded data removed]",
      "text/plain": [
       "<IPython.core.display.Image object>"
      ]
     },
     "metadata": {},
     "output_type": "display_data"
    }
   ],
   "source": [
    "memory = MemorySaver()\n",
    "\n",
    "## WE are all set make the graph\n",
    "graph_builder = StateGraph(state_schema=State)\n",
    "\n",
    "# Nodes\n",
    "graph_builder.add_edge(START, \"agent_worker\")\n",
    "graph_builder.add_node(\"tools\", ToolNode(tools=agent_tools))\n",
    "graph_builder.add_node(\"agent_worker\", agent_worker)\n",
    "graph_builder.add_node(\"agent_evaluator\", agent_evaluator)\n",
    "\n",
    "# Edges \n",
    "graph_builder.add_conditional_edges(\"agent_worker\", agent_worker_router, {\"tools\": \"tools\", \"agent_evaluator\": \"agent_evaluator\"})\n",
    "graph_builder.add_edge(\"tools\", \"agent_worker\")\n",
    "graph_builder.add_conditional_edges(\"agent_evaluator\", route_based_on_evaluation, {\"agent_worker\": \"agent_worker\", \"END\": END})\n",
    "\n",
    "# Compile the graph\n",
    "# graph = graph_builder.compile(checkpointer=sql_memory)\n",
    "graph = graph_builder.compile(checkpointer=memory)\n",
    "\n",
    "# Display the graph\n",
    "display(Image(graph.get_graph().draw_mermaid_png()))"
   ]
  },
  {
   "cell_type": "code",
   "execution_count": 16,
   "id": "ebcf9914",
   "metadata": {},
   "outputs": [],
   "source": [
    "### Final Step Gradio inplementaion\n",
    "\n",
    "def make_thread_id() -> str:\n",
    "    return str(uuid.uuid4())\n",
    "\n",
    "\n",
    "async def process_message(message, success_criteria, history, thread):\n",
    "\n",
    "    config = {\"configurable\": {\"thread_id\": thread}}\n",
    "\n",
    "    # state = {\n",
    "    #     \"messages\": message,\n",
    "    #     \"success_criteria\": success_criteria,\n",
    "    #     \"feedback_on_work\": None,\n",
    "    #     \"success_criteria_met\": False,\n",
    "    #     \"user_input_needed\": False\n",
    "    # }\n",
    "    \n",
    "    state = State(\n",
    "        messages=[{\"role\": \"user\", \"content\": message}],\n",
    "        success_criteria=success_criteria,\n",
    "        feedback_on_work=None,\n",
    "        success_criteria_met=False,\n",
    "        user_input_needed=False\n",
    "    )\n",
    "\n",
    "    result = await graph.ainvoke(state, config=config)\n",
    "    user = {\"role\": \"user\", \"content\": message}\n",
    "    reply = {\"role\": \"assistant\", \"content\": result[\"messages\"][-2].content}\n",
    "    feedback = {\"role\": \"assistant\", \"content\": result[\"messages\"][-1].content}\n",
    "    return history + [user, reply, feedback]\n",
    "\n",
    "async def reset():\n",
    "    return \"\", \"\", None, make_thread_id()"
   ]
  },
  {
   "cell_type": "code",
   "execution_count": 17,
   "id": "3781b461",
   "metadata": {},
   "outputs": [
    {
     "name": "stdout",
     "output_type": "stream",
     "text": [
      "* Running on local URL:  http://127.0.0.1:7860\n",
      "* To create a public link, set `share=True` in `launch()`.\n"
     ]
    },
    {
     "data": {
      "text/html": [
       "<div><iframe src=\"http://127.0.0.1:7860/\" width=\"100%\" height=\"500\" allow=\"autoplay; camera; microphone; clipboard-read; clipboard-write;\" frameborder=\"0\" allowfullscreen></iframe></div>"
      ],
      "text/plain": [
       "<IPython.core.display.HTML object>"
      ]
     },
     "metadata": {},
     "output_type": "display_data"
    },
    {
     "data": {
      "text/plain": []
     },
     "execution_count": 17,
     "metadata": {},
     "output_type": "execute_result"
    },
    {
     "name": "stdout",
     "output_type": "stream",
     "text": [
      "Last message type: <class 'langchain_core.messages.ai.AIMessage'>\n",
      "Last message content: content='' additional_kwargs={'tool_calls': [{'id': 'call_WTjUyaPT2dPmIhLmHdxdoMNB', 'function': {'arguments': '{\"__arg1\":\"Hi\"}', 'name': 'push_notification_tool'}, 'type': 'function'}], 'refusal': None} response_metadata={'token_usage': {'completion_tokens': 18, 'prompt_tokens': 482, 'total_tokens': 500, 'completion_tokens_details': {'accepted_prediction_tokens': 0, 'audio_tokens': 0, 'reasoning_tokens': 0, 'rejected_prediction_tokens': 0}, 'prompt_tokens_details': {'audio_tokens': 0, 'cached_tokens': 0}}, 'model_name': 'gpt-4o-2024-08-06', 'system_fingerprint': 'fp_ee1d74bde0', 'id': 'chatcmpl-BqKwJGX9QlNg48lP4mtMg0zmjOl5H', 'service_tier': None, 'prompt_filter_results': [{'prompt_index': 0, 'content_filter_results': {'hate': {'filtered': False, 'severity': 'safe'}, 'jailbreak': {'filtered': False, 'detected': False}, 'self_harm': {'filtered': False, 'severity': 'safe'}, 'sexual': {'filtered': False, 'severity': 'safe'}, 'violence': {'filtered': False, 'severity': 'safe'}}}], 'finish_reason': 'tool_calls', 'logprobs': None, 'content_filter_results': {}} id='run--95a701f9-8c57-4e39-9e76-559f6b518ceb-0' tool_calls=[{'name': 'push_notification_tool', 'args': {'__arg1': 'Hi'}, 'id': 'call_WTjUyaPT2dPmIhLmHdxdoMNB', 'type': 'tool_call'}] usage_metadata={'input_tokens': 482, 'output_tokens': 18, 'total_tokens': 500, 'input_token_details': {'audio': 0, 'cache_read': 0}, 'output_token_details': {'audio': 0, 'reasoning': 0}}\n",
      "Last message type: <class 'langchain_core.messages.ai.AIMessage'>\n",
      "Last message content: content='The \"Hi\" push notification has been sent successfully!' additional_kwargs={'refusal': None} response_metadata={'token_usage': {'completion_tokens': 13, 'prompt_tokens': 509, 'total_tokens': 522, 'completion_tokens_details': {'accepted_prediction_tokens': 0, 'audio_tokens': 0, 'reasoning_tokens': 0, 'rejected_prediction_tokens': 0}, 'prompt_tokens_details': {'audio_tokens': 0, 'cached_tokens': 0}}, 'model_name': 'gpt-4o-2024-08-06', 'system_fingerprint': 'fp_ee1d74bde0', 'id': 'chatcmpl-BqKwMds8B53zAGKvUU21tS9f3LnYD', 'service_tier': None, 'prompt_filter_results': [{'prompt_index': 0, 'content_filter_results': {'hate': {'filtered': False, 'severity': 'safe'}, 'jailbreak': {'filtered': False, 'detected': False}, 'self_harm': {'filtered': False, 'severity': 'safe'}, 'sexual': {'filtered': False, 'severity': 'safe'}, 'violence': {'filtered': False, 'severity': 'safe'}}}], 'finish_reason': 'stop', 'logprobs': None, 'content_filter_results': {'hate': {'filtered': False, 'severity': 'safe'}, 'protected_material_code': {'filtered': False, 'detected': False}, 'protected_material_text': {'filtered': False, 'detected': False}, 'self_harm': {'filtered': False, 'severity': 'safe'}, 'sexual': {'filtered': False, 'severity': 'safe'}, 'violence': {'filtered': False, 'severity': 'safe'}}} id='run--71459305-24ca-421f-bf9b-c5934d04d6aa-0' usage_metadata={'input_tokens': 509, 'output_tokens': 13, 'total_tokens': 522, 'input_token_details': {'audio': 0, 'cache_read': 0}, 'output_token_details': {'audio': 0, 'reasoning': 0}}\n",
      "Last message type: <class 'langchain_core.messages.ai.AIMessage'>\n",
      "Last message content: content='I apologize for the confusion. Unfortunately, I am not capable of sending push notifications directly to your device. To send a push notification, you would typically need to use a specific service or application designed for managing and delivering notifications, such as Firebase Cloud Messaging (FCM), Apple Push Notification Service (APNS), or similar platforms.\\n\\nIf you need help with setting up or using a particular push notification service, feel free to ask!' additional_kwargs={'refusal': None} response_metadata={'token_usage': {'completion_tokens': 88, 'prompt_tokens': 839, 'total_tokens': 927, 'completion_tokens_details': {'accepted_prediction_tokens': 0, 'audio_tokens': 0, 'reasoning_tokens': 0, 'rejected_prediction_tokens': 0}, 'prompt_tokens_details': {'audio_tokens': 0, 'cached_tokens': 0}}, 'model_name': 'gpt-4o-2024-08-06', 'system_fingerprint': 'fp_ee1d74bde0', 'id': 'chatcmpl-BqKwT7xqs0gVCpLlOUSmgZXmwQmst', 'service_tier': None, 'prompt_filter_results': [{'prompt_index': 0, 'content_filter_results': {'hate': {'filtered': False, 'severity': 'safe'}, 'jailbreak': {'filtered': False, 'detected': False}, 'self_harm': {'filtered': False, 'severity': 'safe'}, 'sexual': {'filtered': False, 'severity': 'safe'}, 'violence': {'filtered': False, 'severity': 'safe'}}}], 'finish_reason': 'stop', 'logprobs': None, 'content_filter_results': {'hate': {'filtered': False, 'severity': 'safe'}, 'protected_material_code': {'filtered': False, 'detected': False}, 'protected_material_text': {'filtered': False, 'detected': False}, 'self_harm': {'filtered': False, 'severity': 'safe'}, 'sexual': {'filtered': False, 'severity': 'safe'}, 'violence': {'filtered': False, 'severity': 'safe'}}} id='run--9082ab68-23e2-4f27-8c06-01c61c6cb4c5-0' usage_metadata={'input_tokens': 839, 'output_tokens': 88, 'total_tokens': 927, 'input_token_details': {'audio': 0, 'cache_read': 0}, 'output_token_details': {'audio': 0, 'reasoning': 0}}\n",
      "Last message type: <class 'langchain_core.messages.ai.AIMessage'>\n",
      "Last message content: content='' additional_kwargs={'tool_calls': [{'id': 'call_bpJk4xyTSOFsYcjLXT4iDTIo', 'function': {'arguments': '{\"__arg1\":\"site:cnn.com top news\"}', 'name': 'google_serper_search_tool'}, 'type': 'function'}], 'refusal': None} response_metadata={'token_usage': {'completion_tokens': 25, 'prompt_tokens': 866, 'total_tokens': 891, 'completion_tokens_details': {'accepted_prediction_tokens': 0, 'audio_tokens': 0, 'reasoning_tokens': 0, 'rejected_prediction_tokens': 0}, 'prompt_tokens_details': {'audio_tokens': 0, 'cached_tokens': 0}}, 'model_name': 'gpt-4o-2024-08-06', 'system_fingerprint': 'fp_ee1d74bde0', 'id': 'chatcmpl-BqKwsyz9WZJdqpVhPT6WUEXoKYQEb', 'service_tier': None, 'prompt_filter_results': [{'prompt_index': 0, 'content_filter_results': {'hate': {'filtered': False, 'severity': 'safe'}, 'jailbreak': {'filtered': False, 'detected': False}, 'self_harm': {'filtered': False, 'severity': 'safe'}, 'sexual': {'filtered': False, 'severity': 'safe'}, 'violence': {'filtered': False, 'severity': 'safe'}}}], 'finish_reason': 'tool_calls', 'logprobs': None, 'content_filter_results': {}} id='run--d9e38fde-92a4-40cc-92cd-2a5ca4fc0bba-0' tool_calls=[{'name': 'google_serper_search_tool', 'args': {'__arg1': 'site:cnn.com top news'}, 'id': 'call_bpJk4xyTSOFsYcjLXT4iDTIo', 'type': 'tool_call'}] usage_metadata={'input_tokens': 866, 'output_tokens': 25, 'total_tokens': 891, 'input_token_details': {'audio': 0, 'cache_read': 0}, 'output_token_details': {'audio': 0, 'reasoning': 0}}\n",
      "Last message type: <class 'langchain_core.messages.ai.AIMessage'>\n",
      "Last message content: content='' additional_kwargs={'tool_calls': [{'id': 'call_BUnFRxfxtKKcuLoIaHd4BXuj', 'function': {'arguments': '{\"url\":\"https://www.cnn.com\"}', 'name': 'navigate_browser'}, 'type': 'function'}], 'refusal': None} response_metadata={'token_usage': {'completion_tokens': 20, 'prompt_tokens': 951, 'total_tokens': 971, 'completion_tokens_details': {'accepted_prediction_tokens': 0, 'audio_tokens': 0, 'reasoning_tokens': 0, 'rejected_prediction_tokens': 0}, 'prompt_tokens_details': {'audio_tokens': 0, 'cached_tokens': 0}}, 'model_name': 'gpt-4o-2024-08-06', 'system_fingerprint': 'fp_ee1d74bde0', 'id': 'chatcmpl-BqKwtNjxCjwCywIRTUzuz4vRi7Uud', 'service_tier': None, 'prompt_filter_results': [{'prompt_index': 0, 'content_filter_results': {'hate': {'filtered': False, 'severity': 'safe'}, 'jailbreak': {'filtered': False, 'detected': False}, 'self_harm': {'filtered': False, 'severity': 'safe'}, 'sexual': {'filtered': False, 'severity': 'safe'}, 'violence': {'filtered': False, 'severity': 'safe'}}}], 'finish_reason': 'tool_calls', 'logprobs': None, 'content_filter_results': {}} id='run--ae0c13db-fefe-43ea-af66-a37c2c087cc9-0' tool_calls=[{'name': 'navigate_browser', 'args': {'url': 'https://www.cnn.com'}, 'id': 'call_BUnFRxfxtKKcuLoIaHd4BXuj', 'type': 'tool_call'}] usage_metadata={'input_tokens': 951, 'output_tokens': 20, 'total_tokens': 971, 'input_token_details': {'audio': 0, 'cache_read': 0}, 'output_token_details': {'audio': 0, 'reasoning': 0}}\n",
      "Last message type: <class 'langchain_core.messages.ai.AIMessage'>\n",
      "Last message content: content=\"I encountered an issue while trying to access the CNN website directly for top news. However, you can find the latest news directly by visiting [CNN's homepage](https://www.cnn.com).\\n\\nOnce you find the news article you'd like to be notified about, let me know how I can assist further!\" additional_kwargs={'refusal': None} response_metadata={'token_usage': {'completion_tokens': 63, 'prompt_tokens': 1022, 'total_tokens': 1085, 'completion_tokens_details': {'accepted_prediction_tokens': 0, 'audio_tokens': 0, 'reasoning_tokens': 0, 'rejected_prediction_tokens': 0}, 'prompt_tokens_details': {'audio_tokens': 0, 'cached_tokens': 0}}, 'model_name': 'gpt-4o-2024-08-06', 'system_fingerprint': 'fp_ee1d74bde0', 'id': 'chatcmpl-BqKxOXPTRUSD5XyAhWVa7tlT7BNBa', 'service_tier': None, 'prompt_filter_results': [{'prompt_index': 0, 'content_filter_results': {'hate': {'filtered': False, 'severity': 'safe'}, 'jailbreak': {'filtered': False, 'detected': False}, 'self_harm': {'filtered': False, 'severity': 'safe'}, 'sexual': {'filtered': False, 'severity': 'safe'}, 'violence': {'filtered': False, 'severity': 'safe'}}}], 'finish_reason': 'stop', 'logprobs': None, 'content_filter_results': {'hate': {'filtered': False, 'severity': 'safe'}, 'protected_material_code': {'filtered': False, 'detected': False}, 'protected_material_text': {'filtered': False, 'detected': False}, 'self_harm': {'filtered': False, 'severity': 'safe'}, 'sexual': {'filtered': False, 'severity': 'safe'}, 'violence': {'filtered': False, 'severity': 'safe'}}} id='run--8c64bc73-e443-4ddb-9284-adfb3a904fb9-0' usage_metadata={'input_tokens': 1022, 'output_tokens': 63, 'total_tokens': 1085, 'input_token_details': {'audio': 0, 'cache_read': 0}, 'output_token_details': {'audio': 0, 'reasoning': 0}}\n",
      "Last message type: <class 'langchain_core.messages.ai.AIMessage'>\n",
      "Last message content: content='' additional_kwargs={'tool_calls': [{'id': 'call_TITbr87oKnNpGSFWmqupsSa6', 'function': {'arguments': '{\"__arg1\":\"site:cnn.com top news\"}', 'name': 'google_serper_search_tool'}, 'type': 'function'}], 'refusal': None} response_metadata={'token_usage': {'completion_tokens': 25, 'prompt_tokens': 1486, 'total_tokens': 1511, 'completion_tokens_details': {'accepted_prediction_tokens': 0, 'audio_tokens': 0, 'reasoning_tokens': 0, 'rejected_prediction_tokens': 0}, 'prompt_tokens_details': {'audio_tokens': 0, 'cached_tokens': 0}}, 'model_name': 'gpt-4o-2024-08-06', 'system_fingerprint': 'fp_ee1d74bde0', 'id': 'chatcmpl-BqKxXOBEP1aevP4Wv10eASDcxyIM9', 'service_tier': None, 'prompt_filter_results': [{'prompt_index': 0, 'content_filter_results': {'hate': {'filtered': False, 'severity': 'safe'}, 'jailbreak': {'filtered': False, 'detected': False}, 'self_harm': {'filtered': False, 'severity': 'safe'}, 'sexual': {'filtered': False, 'severity': 'safe'}, 'violence': {'filtered': False, 'severity': 'safe'}}}], 'finish_reason': 'tool_calls', 'logprobs': None, 'content_filter_results': {}} id='run--062f21ec-a002-4e65-ad40-29afad13c0d4-0' tool_calls=[{'name': 'google_serper_search_tool', 'args': {'__arg1': 'site:cnn.com top news'}, 'id': 'call_TITbr87oKnNpGSFWmqupsSa6', 'type': 'tool_call'}] usage_metadata={'input_tokens': 1486, 'output_tokens': 25, 'total_tokens': 1511, 'input_token_details': {'audio': 0, 'cache_read': 0}, 'output_token_details': {'audio': 0, 'reasoning': 0}}\n",
      "Last message type: <class 'langchain_core.messages.ai.AIMessage'>\n",
      "Last message content: content='' additional_kwargs={'tool_calls': [{'id': 'call_xTWdmXRZ7NWwaf6erKk7cMit', 'function': {'arguments': '{\"url\":\"https://www.cnn.com\"}', 'name': 'navigate_browser'}, 'type': 'function'}], 'refusal': None} response_metadata={'token_usage': {'completion_tokens': 20, 'prompt_tokens': 1571, 'total_tokens': 1591, 'completion_tokens_details': {'accepted_prediction_tokens': 0, 'audio_tokens': 0, 'reasoning_tokens': 0, 'rejected_prediction_tokens': 0}, 'prompt_tokens_details': {'audio_tokens': 0, 'cached_tokens': 1408}}, 'model_name': 'gpt-4o-2024-08-06', 'system_fingerprint': 'fp_ee1d74bde0', 'id': 'chatcmpl-BqKxYCUdMGiqT1NRhEnS4Utg3VacR', 'service_tier': None, 'prompt_filter_results': [{'prompt_index': 0, 'content_filter_results': {'hate': {'filtered': False, 'severity': 'safe'}, 'jailbreak': {'filtered': False, 'detected': False}, 'self_harm': {'filtered': False, 'severity': 'safe'}, 'sexual': {'filtered': False, 'severity': 'safe'}, 'violence': {'filtered': False, 'severity': 'safe'}}}], 'finish_reason': 'tool_calls', 'logprobs': None, 'content_filter_results': {}} id='run--2c5e891f-7726-4893-89b9-c5457770109b-0' tool_calls=[{'name': 'navigate_browser', 'args': {'url': 'https://www.cnn.com'}, 'id': 'call_xTWdmXRZ7NWwaf6erKk7cMit', 'type': 'tool_call'}] usage_metadata={'input_tokens': 1571, 'output_tokens': 20, 'total_tokens': 1591, 'input_token_details': {'audio': 0, 'cache_read': 1408}, 'output_token_details': {'audio': 0, 'reasoning': 0}}\n",
      "Last message type: <class 'langchain_core.messages.ai.AIMessage'>\n",
      "Last message content: content='' additional_kwargs={'tool_calls': [{'id': 'call_zVoFQCtwOtGAMC2nvsIOeTGF', 'function': {'arguments': '{\"absolute_urls\":true}', 'name': 'extract_hyperlinks'}, 'type': 'function'}], 'refusal': None} response_metadata={'token_usage': {'completion_tokens': 18, 'prompt_tokens': 1612, 'total_tokens': 1630, 'completion_tokens_details': {'accepted_prediction_tokens': 0, 'audio_tokens': 0, 'reasoning_tokens': 0, 'rejected_prediction_tokens': 0}, 'prompt_tokens_details': {'audio_tokens': 0, 'cached_tokens': 1536}}, 'model_name': 'gpt-4o-2024-08-06', 'system_fingerprint': 'fp_ee1d74bde0', 'id': 'chatcmpl-BqKxa7wnKYDe95BZjzA4UBQ1CRI7A', 'service_tier': None, 'prompt_filter_results': [{'prompt_index': 0, 'content_filter_results': {'hate': {'filtered': False, 'severity': 'safe'}, 'jailbreak': {'filtered': False, 'detected': False}, 'self_harm': {'filtered': False, 'severity': 'safe'}, 'sexual': {'filtered': False, 'severity': 'safe'}, 'violence': {'filtered': False, 'severity': 'safe'}}}], 'finish_reason': 'tool_calls', 'logprobs': None, 'content_filter_results': {}} id='run--12d0abe6-a906-40d3-a7fe-687870835661-0' tool_calls=[{'name': 'extract_hyperlinks', 'args': {'absolute_urls': True}, 'id': 'call_zVoFQCtwOtGAMC2nvsIOeTGF', 'type': 'tool_call'}] usage_metadata={'input_tokens': 1612, 'output_tokens': 18, 'total_tokens': 1630, 'input_token_details': {'audio': 0, 'cache_read': 1536}, 'output_token_details': {'audio': 0, 'reasoning': 0}}\n",
      "Last message type: <class 'langchain_core.messages.ai.AIMessage'>\n",
      "Last message content: content='' additional_kwargs={'tool_calls': [{'id': 'call_j8oIrHnK6RUDm43yXrhkSUqY', 'function': {'arguments': '{\"__arg1\":\"Here is a link to a top news article from CNN: https://edition.cnn.com/2025/07/05/weather/video/texas-floods-summer-camp-mystic-ed-lavandera-digvid\"}', 'name': 'push_notification_tool'}, 'type': 'function'}], 'refusal': None} response_metadata={'token_usage': {'completion_tokens': 65, 'prompt_tokens': 5675, 'total_tokens': 5740, 'completion_tokens_details': {'accepted_prediction_tokens': 0, 'audio_tokens': 0, 'reasoning_tokens': 0, 'rejected_prediction_tokens': 0}, 'prompt_tokens_details': {'audio_tokens': 0, 'cached_tokens': 1536}}, 'model_name': 'gpt-4o-2024-08-06', 'system_fingerprint': 'fp_ee1d74bde0', 'id': 'chatcmpl-BqKxbbU8Df9Q9IHdB17RPQY0wyV4A', 'service_tier': None, 'prompt_filter_results': [{'prompt_index': 0, 'content_filter_results': {'hate': {'filtered': False, 'severity': 'safe'}, 'jailbreak': {'filtered': False, 'detected': False}, 'self_harm': {'filtered': False, 'severity': 'safe'}, 'sexual': {'filtered': False, 'severity': 'safe'}, 'violence': {'filtered': False, 'severity': 'safe'}}}], 'finish_reason': 'tool_calls', 'logprobs': None, 'content_filter_results': {}} id='run--15afe437-198d-4665-bae3-a41eb0e7b1da-0' tool_calls=[{'name': 'push_notification_tool', 'args': {'__arg1': 'Here is a link to a top news article from CNN: https://edition.cnn.com/2025/07/05/weather/video/texas-floods-summer-camp-mystic-ed-lavandera-digvid'}, 'id': 'call_j8oIrHnK6RUDm43yXrhkSUqY', 'type': 'tool_call'}] usage_metadata={'input_tokens': 5675, 'output_tokens': 65, 'total_tokens': 5740, 'input_token_details': {'audio': 0, 'cache_read': 1536}, 'output_token_details': {'audio': 0, 'reasoning': 0}}\n",
      "Last message type: <class 'langchain_core.messages.ai.AIMessage'>\n",
      "Last message content: content=\"I've sent a push notification with the link to a top news article from CNN about the Texas floods at a summer camp. If you need further assistance, feel free to ask!\" additional_kwargs={'refusal': None} response_metadata={'token_usage': {'completion_tokens': 37, 'prompt_tokens': 5749, 'total_tokens': 5786, 'completion_tokens_details': {'accepted_prediction_tokens': 0, 'audio_tokens': 0, 'reasoning_tokens': 0, 'rejected_prediction_tokens': 0}, 'prompt_tokens_details': {'audio_tokens': 0, 'cached_tokens': 0}}, 'model_name': 'gpt-4o-2024-08-06', 'system_fingerprint': 'fp_ee1d74bde0', 'id': 'chatcmpl-BqKxemtnf6sVr2qJaGPrB6ZP5M2fK', 'service_tier': None, 'prompt_filter_results': [{'prompt_index': 0, 'content_filter_results': {'hate': {'filtered': False, 'severity': 'safe'}, 'jailbreak': {'filtered': False, 'detected': False}, 'self_harm': {'filtered': False, 'severity': 'safe'}, 'sexual': {'filtered': False, 'severity': 'safe'}, 'violence': {'filtered': False, 'severity': 'safe'}}}], 'finish_reason': 'stop', 'logprobs': None, 'content_filter_results': {'hate': {'filtered': False, 'severity': 'safe'}, 'self_harm': {'filtered': False, 'severity': 'safe'}, 'sexual': {'filtered': False, 'severity': 'safe'}, 'violence': {'filtered': False, 'severity': 'safe'}}} id='run--3e77e63d-5d8a-4fcf-8bd2-60648bcfd8cd-0' usage_metadata={'input_tokens': 5749, 'output_tokens': 37, 'total_tokens': 5786, 'input_token_details': {'audio': 0, 'cache_read': 0}, 'output_token_details': {'audio': 0, 'reasoning': 0}}\n"
     ]
    }
   ],
   "source": [
    "# Put it all together in a gradio interface\n",
    "with gr.Blocks(theme=gr.themes.Default(primary_hue=\"emerald\")) as demo:\n",
    "    gr.Markdown(\"## Sidekick Personal Co-worker\")\n",
    "    thread = gr.State(make_thread_id())\n",
    "    \n",
    "    with gr.Row():\n",
    "        chatbot = gr.Chatbot(label=\"Sidekick\", height=300, type=\"messages\")\n",
    "    with gr.Group():\n",
    "        with gr.Row():\n",
    "            message = gr.Textbox(show_label=False, placeholder=\"Your request to your sidekick\")\n",
    "        with gr.Row():\n",
    "            success_criteria = gr.Textbox(show_label=False, placeholder=\"What are your success critiera?\")\n",
    "    with gr.Row():\n",
    "        reset_button = gr.Button(\"Reset\", variant=\"stop\")\n",
    "        go_button = gr.Button(\"Go!\", variant=\"primary\")\n",
    "    message.submit(process_message, [message, success_criteria, chatbot, thread], [chatbot])\n",
    "    success_criteria.submit(process_message, [message, success_criteria, chatbot, thread], [chatbot])\n",
    "    go_button.click(process_message, [message, success_criteria, chatbot, thread], [chatbot])\n",
    "    reset_button.click(reset, [], [message, success_criteria, chatbot, thread])\n",
    "\n",
    "    \n",
    "demo.launch()"
   ]
  },
  {
   "cell_type": "code",
   "execution_count": null,
   "id": "1ed68485",
   "metadata": {},
   "outputs": [],
   "source": []
  }
 ],
 "metadata": {
  "kernelspec": {
   "display_name": ".venv",
   "language": "python",
   "name": "python3"
  },
  "language_info": {
   "codemirror_mode": {
    "name": "ipython",
    "version": 3
   },
   "file_extension": ".py",
   "mimetype": "text/x-python",
   "name": "python",
   "nbconvert_exporter": "python",
   "pygments_lexer": "ipython3",
   "version": "3.12.6"
  }
 },
 "nbformat": 4,
 "nbformat_minor": 5
}
